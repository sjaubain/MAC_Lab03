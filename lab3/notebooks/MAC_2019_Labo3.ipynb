{
 "cells": [
  {
   "cell_type": "markdown",
   "metadata": {},
   "source": [
    "# Labo 3: Spark\n",
    "\n",
    "Authors: Christopher MEIER and Guillaume HOCHET\n",
    "\n",
    "Based on the work of: Gary MARIGLIANO and Miguel SANTAMARIA\n",
    "\n",
    "For MAC course given by Nastaran FATEMI\n",
    "\n",
    "Date: November 2019"
   ]
  },
  {
   "cell_type": "code",
   "execution_count": 1,
   "metadata": {},
   "outputs": [
    {
     "data": {
      "text/plain": [
       "\u001b[32mimport \u001b[39m\u001b[36m$ivy.$                                  \n",
       "\u001b[39m\n",
       "\u001b[32mimport \u001b[39m\u001b[36morg.apache.spark.rdd.RDD\n",
       "\u001b[39m\n",
       "\u001b[32mimport \u001b[39m\u001b[36morg.apache.spark.sql.functions._\n",
       "\n",
       "\u001b[39m\n",
       "\u001b[32mimport \u001b[39m\u001b[36morg.apache.log4j.{Level, Logger}\n",
       "\u001b[39m"
      ]
     },
     "execution_count": 1,
     "metadata": {},
     "output_type": "execute_result"
    }
   ],
   "source": [
    "import $ivy.`org.apache.spark::spark-sql:2.4.4`\n",
    "import org.apache.spark.rdd.RDD\n",
    "import org.apache.spark.sql.functions._\n",
    "\n",
    "import org.apache.log4j.{Level, Logger}\n",
    "Logger.getLogger(\"org\").setLevel(Level.WARN)"
   ]
  },
  {
   "cell_type": "code",
   "execution_count": 2,
   "metadata": {},
   "outputs": [
    {
     "name": "stdout",
     "output_type": "stream",
     "text": [
      "Loading spark-stubs\n",
      "Getting spark JARs\n",
      "Creating SparkSession\n"
     ]
    },
    {
     "name": "stderr",
     "output_type": "stream",
     "text": [
      "Using Spark's default log4j profile: org/apache/spark/log4j-defaults.properties\n",
      "19/11/28 15:43:25 WARN NativeCodeLoader: Unable to load native-hadoop library for your platform... using builtin-java classes where applicable\n"
     ]
    },
    {
     "data": {
      "text/html": [
       "<a href=\"http://0e0a6f65b577:4040\">Spark UI</a>"
      ]
     },
     "metadata": {},
     "output_type": "display_data"
    },
    {
     "data": {
      "text/plain": [
       "\u001b[32mimport \u001b[39m\u001b[36morg.apache.spark.sql._\n",
       "\u001b[39m\n",
       "\u001b[36mspark\u001b[39m: \u001b[32mSparkSession\u001b[39m = org.apache.spark.sql.SparkSession@609b29dc\n",
       "\u001b[32mimport \u001b[39m\u001b[36mspark.implicits._\u001b[39m"
      ]
     },
     "execution_count": 2,
     "metadata": {},
     "output_type": "execute_result"
    }
   ],
   "source": [
    "// Create a spark session\n",
    "// To have better integration with Jupyter, we use a wrapper class provided by almond-spark\n",
    "import org.apache.spark.sql._\n",
    "val spark = {\n",
    "  NotebookSparkSession.builder()\n",
    "    .master(\"local[*]\")\n",
    "    .getOrCreate()\n",
    "}\n",
    "import spark.implicits._"
   ]
  },
  {
   "cell_type": "code",
   "execution_count": 3,
   "metadata": {},
   "outputs": [
    {
     "data": {
      "text/plain": [
       "defined \u001b[32mfunction\u001b[39m \u001b[36msc\u001b[39m"
      ]
     },
     "execution_count": 3,
     "metadata": {},
     "output_type": "execute_result"
    }
   ],
   "source": [
    "// Retrieve the Spark context\n",
    "def sc = spark.sparkContext"
   ]
  },
  {
   "cell_type": "code",
   "execution_count": 4,
   "metadata": {},
   "outputs": [
    {
     "data": {
      "text/plain": [
       "defined \u001b[32mclass\u001b[39m \u001b[36mMovie\u001b[39m"
      ]
     },
     "execution_count": 4,
     "metadata": {},
     "output_type": "execute_result"
    }
   ],
   "source": [
    "case class Movie(id: Int, title: String, genres: Seq[String],\n",
    "                 description: String, director: String, actors: Seq[String],\n",
    "                 year: Int, rating: Float, votes: Int)"
   ]
  },
  {
   "cell_type": "code",
   "execution_count": 5,
   "metadata": {},
   "outputs": [
    {
     "data": {
      "text/plain": [
       "defined \u001b[32mfunction\u001b[39m \u001b[36mparseRow\u001b[39m"
      ]
     },
     "execution_count": 5,
     "metadata": {},
     "output_type": "execute_result"
    }
   ],
   "source": [
    "  def parseRow(row: Row): Movie = {\n",
    "    val id = row.getInt(0)\n",
    "    val title = row.getString(1)\n",
    "    val genres = row.getString(2).split(\",\").toList\n",
    "    val description = row.getString(3)\n",
    "    val director = row.getString(4)\n",
    "    val actors = row.getString(5).split(\",\").toList\n",
    "    val year = row.getInt(6)\n",
    "    val rating = row.getDouble(8).toFloat\n",
    "    val votes = row.getInt(9)\n",
    "\n",
    "    Movie(id, title, genres, description, director, actors, year, rating, votes)\n",
    "  }"
   ]
  },
  {
   "cell_type": "code",
   "execution_count": 6,
   "metadata": {},
   "outputs": [
    {
     "data": {
      "text/html": [
       "<script>\n",
       "var comm = Jupyter.notebook.kernel.comm_manager.new_comm('cancel-stage-446cb2a6-340d-491a-b5e0-a22df7a1906a', {});\n",
       "\n",
       "function cancelStage(stageId) {\n",
       "  console.log('Cancelling stage ' + stageId);\n",
       "  comm.send({ 'stageId': stageId });\n",
       "}\n",
       "</script>\n",
       "          "
      ]
     },
     "metadata": {},
     "output_type": "display_data"
    },
    {
     "data": {
      "text/html": [
       "<div>\n",
       "  <span style=\"float: left;\">load at cmd5.sc:6</span>\n",
       "</div>\n"
      ]
     },
     "metadata": {},
     "output_type": "display_data"
    },
    {
     "data": {
      "text/html": [
       "<div class=\"progress\">\n",
       "  <div class=\"progress-bar\" role=\"progressbar\" style=\"background-color: blue; width: 100%; word-wrap: normal; white-space: nowrap; text-align: center; color: white\" aria-valuenow=\"100\" aria-valuemin=\"0\" aria-valuemax=\"100\">\n",
       "    1 / 1\n",
       "  </div>\n",
       "  <div class=\"progress-bar\" role=\"progressbar\" style=\"background-color: red; width: 0%\" aria-valuenow=\"0\" aria-valuemin=\"0\" aria-valuemax=\"100\"></div>\n",
       "</div>\n"
      ]
     },
     "metadata": {},
     "output_type": "display_data"
    },
    {
     "data": {
      "text/html": [
       "<div>\n",
       "  <span style=\"float: left;\">load at cmd5.sc:6</span>\n",
       "</div>\n"
      ]
     },
     "metadata": {},
     "output_type": "display_data"
    },
    {
     "data": {
      "text/html": [
       "<div class=\"progress\">\n",
       "  <div class=\"progress-bar\" role=\"progressbar\" style=\"background-color: blue; width: 100%; word-wrap: normal; white-space: nowrap; text-align: center; color: white\" aria-valuenow=\"100\" aria-valuemin=\"0\" aria-valuemax=\"100\">\n",
       "    1 / 1\n",
       "  </div>\n",
       "  <div class=\"progress-bar\" role=\"progressbar\" style=\"background-color: red; width: 0%\" aria-valuenow=\"0\" aria-valuemin=\"0\" aria-valuemax=\"100\"></div>\n",
       "</div>\n"
      ]
     },
     "metadata": {},
     "output_type": "display_data"
    },
    {
     "data": {
      "text/plain": [
       "\u001b[36mfilename\u001b[39m: \u001b[32mString\u001b[39m = \u001b[32m\"../data/IMDB-Movie-Data.csv\"\u001b[39m\n",
       "\u001b[36mmoviesDF\u001b[39m: \u001b[32mDataFrame\u001b[39m = [Rank: int, Title: string ... 10 more fields]\n",
       "\u001b[36mrddMovies\u001b[39m: \u001b[32mRDD\u001b[39m[\u001b[32mMovie\u001b[39m] = MapPartitionsRDD[13] at map at cmd5.sc:7"
      ]
     },
     "execution_count": 6,
     "metadata": {},
     "output_type": "execute_result"
    }
   ],
   "source": [
    "val filename = \"../data/IMDB-Movie-Data.csv\"\n",
    "val moviesDF = spark.read.format(\"csv\")\n",
    "    .option(\"sep\", \",\")\n",
    "    .option(\"inferSchema\", \"true\")\n",
    "    .option(\"header\", \"true\")\n",
    "    .load(filename)\n",
    "val rddMovies = moviesDF.rdd.map(parseRow)"
   ]
  },
  {
   "cell_type": "code",
   "execution_count": 7,
   "metadata": {},
   "outputs": [
    {
     "data": {
      "text/html": [
       "<div>\n",
       "  <span style=\"float: left;\">take at cmd6.sc:1</span>\n",
       "</div>\n"
      ]
     },
     "metadata": {},
     "output_type": "display_data"
    },
    {
     "data": {
      "text/html": [
       "<div class=\"progress\">\n",
       "  <div class=\"progress-bar\" role=\"progressbar\" style=\"background-color: blue; width: 100%; word-wrap: normal; white-space: nowrap; text-align: center; color: white\" aria-valuenow=\"100\" aria-valuemin=\"0\" aria-valuemax=\"100\">\n",
       "    1 / 1\n",
       "  </div>\n",
       "  <div class=\"progress-bar\" role=\"progressbar\" style=\"background-color: red; width: 0%\" aria-valuenow=\"0\" aria-valuemin=\"0\" aria-valuemax=\"100\"></div>\n",
       "</div>\n"
      ]
     },
     "metadata": {},
     "output_type": "display_data"
    },
    {
     "name": "stdout",
     "output_type": "stream",
     "text": [
      "Guardians of the Galaxy\n",
      "Prometheus\n",
      "Split\n",
      "Sing\n",
      "Suicide Squad\n",
      "The Great Wall\n",
      "La La Land\n",
      "Mindhorn\n",
      "The Lost City of Z\n",
      "Passengers\n"
     ]
    }
   ],
   "source": [
    "// Print the title of the first 10 movies to see if they were correctly added.\n",
    "rddMovies.take(10).map(m => m.title).foreach(println)"
   ]
  },
  {
   "cell_type": "markdown",
   "metadata": {},
   "source": [
    "## Part 1 - Playing with the movies using RDD functions\n",
    "\n",
    "The goal of this part is to play (i.e. query, filter and transform the data) with the movies."
   ]
  },
  {
   "cell_type": "markdown",
   "metadata": {},
   "source": [
    "### Ex1 - Print the movies whose title contains \"City\" \n",
    "\n",
    "Goal: \n",
    "\n",
    "* use `map()` and `filter()` methods to get the title of the movies that contains \"City\" in their title\n",
    " \n",
    "Output example:\n",
    "\n",
    "```plain\n",
    "City of Tiny Lights\n",
    "The Mortal Instruments: City of Bones\n",
    "```\n",
    "\n",
    "Steps:\n",
    "\n",
    "* Use `filter()` to only keep the movies that contains \"City\" in their title\n",
    "* Use `map()` to retrieve the titles of these filtered movies\n",
    "* Use `foreach()` to pretty print the results\n"
   ]
  },
  {
   "cell_type": "code",
   "execution_count": 8,
   "metadata": {},
   "outputs": [
    {
     "data": {
      "text/html": [
       "<div>\n",
       "  <span style=\"float: left;\">foreach at cmd7.sc:1</span>\n",
       "</div>\n"
      ]
     },
     "metadata": {},
     "output_type": "display_data"
    },
    {
     "data": {
      "text/html": [
       "<div class=\"progress\">\n",
       "  <div class=\"progress-bar\" role=\"progressbar\" style=\"background-color: blue; width: 100%; word-wrap: normal; white-space: nowrap; text-align: center; color: white\" aria-valuenow=\"100\" aria-valuemin=\"0\" aria-valuemax=\"100\">\n",
       "    1 / 1\n",
       "  </div>\n",
       "  <div class=\"progress-bar\" role=\"progressbar\" style=\"background-color: red; width: 0%\" aria-valuenow=\"0\" aria-valuemin=\"0\" aria-valuemax=\"100\"></div>\n",
       "</div>\n"
      ]
     },
     "metadata": {},
     "output_type": "display_data"
    },
    {
     "name": "stdout",
     "output_type": "stream",
     "text": [
      "The Lost City of Z\n",
      "Sin City: A Dame to Kill For\n",
      "City of Tiny Lights\n",
      "The Mortal Instruments: City of Bones\n",
      "Sex and the City\n",
      "Sex and the City 2\n"
     ]
    }
   ],
   "source": [
    "rddMovies.map(m => m.title).filter(t => t.contains(\"City\")).foreach(println)\n",
    "\n"
   ]
  },
  {
   "cell_type": "markdown",
   "metadata": {},
   "source": [
    "### Ex2- Print the title of the movies rated between `rateMin` and `rateMax`. Take the 10 worst ratings.\n",
    "\n",
    "Goal:\n",
    "    \n",
    "* Take the titles of the movies that were rated between `rateMin` and `rateMax` (exclusing `rateMin` and including`rateMax`).\n",
    "* This list is sorted by rating ASC\n",
    "    \n",
    "Output example:\n",
    "\n",
    "```plain\n",
    "...\n",
    "3.5 - Wrecker\n",
    "3.7 - The Last Face\n",
    "...\n",
    "```\n",
    "    \n",
    "Steps:\n",
    "\n",
    "* Use `filter()` to only keep the movies released between `rateMin` and `rateMax`\n",
    "* Sort the filtered movies by decreasing rating\n",
    "* Use `map()` to keep only the relevant attributes (i.e. rating and title)\n",
    "* Use `foreach()` to pretty print the results"
   ]
  },
  {
   "cell_type": "code",
   "execution_count": 9,
   "metadata": {},
   "outputs": [
    {
     "data": {
      "text/html": [
       "<div>\n",
       "  <span style=\"float: left;\">sortBy at cmd8.sc:6</span>\n",
       "</div>\n"
      ]
     },
     "metadata": {},
     "output_type": "display_data"
    },
    {
     "data": {
      "text/html": [
       "<div class=\"progress\">\n",
       "  <div class=\"progress-bar\" role=\"progressbar\" style=\"background-color: blue; width: 100%; word-wrap: normal; white-space: nowrap; text-align: center; color: white\" aria-valuenow=\"100\" aria-valuemin=\"0\" aria-valuemax=\"100\">\n",
       "    1 / 1\n",
       "  </div>\n",
       "  <div class=\"progress-bar\" role=\"progressbar\" style=\"background-color: red; width: 0%\" aria-valuenow=\"0\" aria-valuemin=\"0\" aria-valuemax=\"100\"></div>\n",
       "</div>\n"
      ]
     },
     "metadata": {},
     "output_type": "display_data"
    },
    {
     "data": {
      "text/html": [
       "<div>\n",
       "  <span style=\"float: left;\">take at cmd8.sc:8</span>\n",
       "</div>\n"
      ]
     },
     "metadata": {},
     "output_type": "display_data"
    },
    {
     "data": {
      "text/html": [
       "<div class=\"progress\">\n",
       "  <div class=\"progress-bar\" role=\"progressbar\" style=\"background-color: blue; width: 100%; word-wrap: normal; white-space: nowrap; text-align: center; color: white\" aria-valuenow=\"100\" aria-valuemin=\"0\" aria-valuemax=\"100\">\n",
       "    1 / 1\n",
       "  </div>\n",
       "  <div class=\"progress-bar\" role=\"progressbar\" style=\"background-color: red; width: 0%\" aria-valuenow=\"0\" aria-valuemin=\"0\" aria-valuemax=\"100\"></div>\n",
       "</div>\n"
      ]
     },
     "metadata": {},
     "output_type": "display_data"
    },
    {
     "name": "stdout",
     "output_type": "stream",
     "text": [
      "Disaster Movie 1.9\n",
      "Don't Fuck in the Woods 2.7\n",
      "Dragonball Evolution 2.7\n",
      "Tall Men 3.2\n",
      "The Intent 3.5\n",
      "Wrecker 3.5\n",
      "The Last Face 3.7\n",
      "Satanic 3.7\n",
      "The Disappointments Room 3.9\n",
      "The Black Room 3.9\n"
     ]
    },
    {
     "data": {
      "text/plain": [
       "\u001b[36mrateMin\u001b[39m: \u001b[32mInt\u001b[39m = \u001b[32m1\u001b[39m\n",
       "\u001b[36mrateMax\u001b[39m: \u001b[32mInt\u001b[39m = \u001b[32m10\u001b[39m"
      ]
     },
     "execution_count": 9,
     "metadata": {},
     "output_type": "execute_result"
    }
   ],
   "source": [
    "val rateMin = 1\n",
    "val rateMax = 10\n",
    "\n",
    "rddMovies\n",
    "    .filter(m => (m.rating <= rateMax) && (m.rating > rateMin))\n",
    "    .sortBy(m => m.rating, true)\n",
    "    .map(m => m.title + \" \" + m.rating)\n",
    "    .take(10).foreach(println)"
   ]
  },
  {
   "cell_type": "markdown",
   "metadata": {},
   "source": [
    "### Ex3 - Print the 10 top genres\n",
    "\n",
    "Goals:\n",
    "\n",
    "* Print the list of the genres that appears the most\n",
    "* Use `flatMap()`\n",
    "\n",
    "Output example:\n",
    "\n",
    "```plain\n",
    "Drama (513)\n",
    "Action (303)\n",
    "Comedy (279)\n",
    "Adventure (259)\n",
    "```\n",
    "\n",
    "Theory:\n",
    "\n",
    "When an operation is giving you a sequence of sequences like:\n",
    "\n",
    "```scala\n",
    "Array(\"hello\", \"world\").map(word => word.split(\"\"))\n",
    "res91: Array[Array[String]] = Array(Array(h, e, l, l, o), Array(w, o, r, l, d))\n",
    "```\n",
    "\n",
    "You may want to flatten this to only have a single list like:\n",
    "```scala\n",
    "Array(\"hello\", \"world\").map(_.split(\"\")).flatten\n",
    "res93: Array[String] = Array(h, e, l, l, o, w, o, r, l, d)\n",
    "```\n",
    "\n",
    "You can achieve the same result (i.e. `map` + `flatten`) using `flatMap`:\n",
    "```scala\n",
    "Array(\"hello\", \"world\").flatMap(_.split(\"\"))\n",
    "res95: Array[String] = Array(h, e, l, l, o, w, o, r, l, d)\n",
    "```\n",
    "\n",
    "We are going to apply this same technique with the `genres` member.\n",
    "\n",
    "Steps:\n",
    "\n",
    "* Use `flatMap()` to get the list with all the genres\n",
    "* Make sure to remove trailling whitespaces\n",
    "* Count the genres\n",
    "* Sort them by decreasing order\n",
    "* Show the top N genres"
   ]
  },
  {
   "cell_type": "code",
   "execution_count": 10,
   "metadata": {},
   "outputs": [
    {
     "data": {
      "text/html": [
       "<div>\n",
       "  <span style=\"float: left;\">map at cmd9.sc:5</span>\n",
       "</div>\n"
      ]
     },
     "metadata": {},
     "output_type": "display_data"
    },
    {
     "data": {
      "text/html": [
       "<div class=\"progress\">\n",
       "  <div class=\"progress-bar\" role=\"progressbar\" style=\"background-color: blue; width: 100%; word-wrap: normal; white-space: nowrap; text-align: center; color: white\" aria-valuenow=\"100\" aria-valuemin=\"0\" aria-valuemax=\"100\">\n",
       "    1 / 1\n",
       "  </div>\n",
       "  <div class=\"progress-bar\" role=\"progressbar\" style=\"background-color: red; width: 0%\" aria-valuenow=\"0\" aria-valuemin=\"0\" aria-valuemax=\"100\"></div>\n",
       "</div>\n"
      ]
     },
     "metadata": {},
     "output_type": "display_data"
    },
    {
     "data": {
      "text/html": [
       "<div>\n",
       "  <span style=\"float: left;\">sortBy at cmd9.sc:7</span>\n",
       "</div>\n"
      ]
     },
     "metadata": {},
     "output_type": "display_data"
    },
    {
     "data": {
      "text/html": [
       "<div class=\"progress\">\n",
       "  <div class=\"progress-bar\" role=\"progressbar\" style=\"background-color: blue; width: 100%; word-wrap: normal; white-space: nowrap; text-align: center; color: white\" aria-valuenow=\"100\" aria-valuemin=\"0\" aria-valuemax=\"100\">\n",
       "    1 / 1\n",
       "  </div>\n",
       "  <div class=\"progress-bar\" role=\"progressbar\" style=\"background-color: red; width: 0%\" aria-valuenow=\"0\" aria-valuemin=\"0\" aria-valuemax=\"100\"></div>\n",
       "</div>\n"
      ]
     },
     "metadata": {},
     "output_type": "display_data"
    },
    {
     "data": {
      "text/html": [
       "<div>\n",
       "  <span style=\"float: left;\">take at cmd9.sc:8</span>\n",
       "</div>\n"
      ]
     },
     "metadata": {},
     "output_type": "display_data"
    },
    {
     "data": {
      "text/html": [
       "<div class=\"progress\">\n",
       "  <div class=\"progress-bar\" role=\"progressbar\" style=\"background-color: blue; width: 100%; word-wrap: normal; white-space: nowrap; text-align: center; color: white\" aria-valuenow=\"100\" aria-valuemin=\"0\" aria-valuemax=\"100\">\n",
       "    1 / 1\n",
       "  </div>\n",
       "  <div class=\"progress-bar\" role=\"progressbar\" style=\"background-color: red; width: 0%\" aria-valuenow=\"0\" aria-valuemin=\"0\" aria-valuemax=\"100\"></div>\n",
       "</div>\n"
      ]
     },
     "metadata": {},
     "output_type": "display_data"
    },
    {
     "name": "stdout",
     "output_type": "stream",
     "text": [
      "(Drama,513)\n",
      "(Action,303)\n",
      "(Comedy,279)\n",
      "(Adventure,259)\n",
      "(Thriller,195)\n",
      "(Crime,150)\n",
      "(Romance,141)\n",
      "(Sci-Fi,120)\n",
      "(Horror,119)\n",
      "(Mystery,106)\n"
     ]
    },
    {
     "data": {
      "text/plain": [
       "\u001b[36mN\u001b[39m: \u001b[32mInt\u001b[39m = \u001b[32m10\u001b[39m"
      ]
     },
     "execution_count": 10,
     "metadata": {},
     "output_type": "execute_result"
    }
   ],
   "source": [
    "val N = 10 // N top genres\n",
    "\n",
    "rddMovies\n",
    "    .flatMap(m => m.genres)\n",
    "    .map(g => (g, 1)) // in order to count \n",
    "    .reduceByKey(_ + _)\n",
    "    .sortBy(_._2, false)\n",
    "    .take(N)\n",
    "    .foreach(println)"
   ]
  },
  {
   "cell_type": "markdown",
   "metadata": {},
   "source": [
    "### Ex4 - Print the average number of votes per year, order by descreasing number of votes\n",
    "\n",
    "Goal:\n",
    "\n",
    "* Print the average votes per year\n",
    "* This output is sorted by descreasing votes\n",
    "\n",
    "Output example:\n",
    "\n",
    "```plain\n",
    "...\n",
    "year: 2008 average votes: 275505.3846153846\n",
    "year: 2009 average votes: 255780.64705882352\n",
    "year: 2010 average votes: 252782.31666666668\n",
    "...\n",
    "```\n",
    "\n",
    "Theory:\n",
    "\n",
    "We are going to use `reduceByKey()` which has the following signature `reduceByKey(func: (V, V) => V): RDD[(K, V)]`. \n",
    "\n",
    "`reduceByKey()` works on a RDD like `RDD[(K,V)]` (i.e. sort of \"list of key/values pairs\"). \n",
    "\n",
    "`reduceByKey()` takes a function that, from two elements, returns one i.e. the `func: (V, V) => V` in the signature.\n",
    "The difference with `reduce()` is that `reduceByKey()` uses two elements sharing the same key.\n",
    "\n",
    "For example (pseudo code):\n",
    "\n",
    "```plain\n",
    " year, count\n",
    "(2010, 2)\n",
    "(2011, 3)\n",
    "(2011, 4)\n",
    "(2010, 8)\n",
    "// use reduceByKey((count1, count2) => count1+count2)\n",
    "> (2010, 10)\n",
    "> (2011, 7)\n",
    "```\n",
    "\n",
    "Note: here `count` is just an Int but it can be anything e.g. `Movie`\n",
    "\n",
    "Steps:\n",
    "\n",
    "* To compute the average we need the **total sum** of votes per year and the **count** of all the movies per year\n",
    "* Use `map()` to create an RDD made of `(year, (votes, 1))`. Like a word count we use the `1` to be able to count the number of movies per year\n",
    "* Use `reduceByKey()` to sum the votes and to count the number of movies per year. The output should look like: `(year, (totalVotes, moviePerYearCount))`\n",
    "* Find a way to compute the average using the result from the last operation\n",
    "* Sort by number of votes decreasing"
   ]
  },
  {
   "cell_type": "code",
   "execution_count": 11,
   "metadata": {},
   "outputs": [
    {
     "data": {
      "text/html": [
       "<div>\n",
       "  <span style=\"float: left;\">map at cmd10.sc:2</span>\n",
       "</div>\n"
      ]
     },
     "metadata": {},
     "output_type": "display_data"
    },
    {
     "data": {
      "text/html": [
       "<div class=\"progress\">\n",
       "  <div class=\"progress-bar\" role=\"progressbar\" style=\"background-color: blue; width: 100%; word-wrap: normal; white-space: nowrap; text-align: center; color: white\" aria-valuenow=\"100\" aria-valuemin=\"0\" aria-valuemax=\"100\">\n",
       "    1 / 1\n",
       "  </div>\n",
       "  <div class=\"progress-bar\" role=\"progressbar\" style=\"background-color: red; width: 0%\" aria-valuenow=\"0\" aria-valuemin=\"0\" aria-valuemax=\"100\"></div>\n",
       "</div>\n"
      ]
     },
     "metadata": {},
     "output_type": "display_data"
    },
    {
     "data": {
      "text/html": [
       "<div>\n",
       "  <span style=\"float: left;\">foreach at cmd10.sc:6</span>\n",
       "</div>\n"
      ]
     },
     "metadata": {},
     "output_type": "display_data"
    },
    {
     "data": {
      "text/html": [
       "<div class=\"progress\">\n",
       "  <div class=\"progress-bar\" role=\"progressbar\" style=\"background-color: blue; width: 100%; word-wrap: normal; white-space: nowrap; text-align: center; color: white\" aria-valuenow=\"100\" aria-valuemin=\"0\" aria-valuemax=\"100\">\n",
       "    1 / 1\n",
       "  </div>\n",
       "  <div class=\"progress-bar\" role=\"progressbar\" style=\"background-color: red; width: 0%\" aria-valuenow=\"0\" aria-valuemin=\"0\" aria-valuemax=\"100\"></div>\n",
       "</div>\n"
      ]
     },
     "metadata": {},
     "output_type": "display_data"
    },
    {
     "name": "stdout",
     "output_type": "stream",
     "text": [
      "year : 2010 average votes : 252782.31666666668\n",
      "year : 2014 average votes : 203930.22448979592\n",
      "year : 2008 average votes : 275505.3846153846\n",
      "year : 2006 average votes : 269289.95454545453\n",
      "year : 2012 average votes : 285226.09375\n",
      "year : 2015 average votes : 115726.22047244094\n",
      "year : 2013 average votes : 219049.64835164836\n",
      "year : 2016 average votes : 48591.75420875421\n",
      "year : 2009 average votes : 255780.64705882352\n",
      "year : 2011 average votes : 240790.3015873016\n",
      "year : 2007 average votes : 244331.03773584907\n"
     ]
    }
   ],
   "source": [
    "rddMovies\n",
    "    .map(m => (m.year, (m.votes, 1)))\n",
    "    .reduceByKey((v1, v2) => (v1._1 + v2._1, v1._2 + v2._2)) // (year, (totalVotes, moviePerYearCount))\n",
    "    .map(result => (result._1, result._2._1.toDouble / result._2._2)) // computes average votes per year\n",
    "    .map(result => \"year : \" + result._1 + \" average votes : \" + result._2) // format output\n",
    "    .foreach(println)"
   ]
  },
  {
   "cell_type": "markdown",
   "metadata": {},
   "source": [
    "## Part 2 - Create a basic Inverted Index\n",
    "\n",
    "The goal of this part is to show you how to create an inverted index that indexes words from all the movies' description."
   ]
  },
  {
   "cell_type": "markdown",
   "metadata": {},
   "source": [
    "Goal:\n",
    "\n",
    "Using `rddMovies` create an inverted that use the movies' description:\n",
    "\n",
    "```plain\n",
    "Movie(1,Guardians of the Galaxy,List(Action, Adventure, Sci-Fi),A group of intergalactic [...] of the universe.,James Gunn,List(Chris Pratt, Vin Diesel, Bradley Cooper, Zoe Saldana),2014,8.1,757074.0)\n",
    "Movie(2,Prometheus,List(Adventure, Mystery, Sci-Fi),Following clues to the origin[...] not alone.,Ridley Scott,List(Noomi Rapace, Logan Marshall-Green, Michael Fassbender, Charlize Theron),2012,7.0,485820.0)\n",
    "Movie(3,Split,List(Horror, Thriller),Three girls are kidnapped [...] a frightful new 24th.,M. Night Shyamalan,List(James McAvoy, Anya Taylor-Joy, Haley Lu Richardson, Jessica Sula),2016,7.3,157606.0)\n",
    "...\n",
    "```\n",
    "\n",
    "and extract them to produce an inverted index like:\n",
    "\n",
    "```plain\n",
    "\"reunion\" -> (640, 697)\n",
    "\"runner\" -> (338)\n",
    "\"vietnam\" -> (797, 947, 983)\n",
    "...\n",
    "```\n",
    "\n",
    "Steps\n",
    "\n",
    "* Tokenize description i.e. produce an RDD like (movId, words)\n",
    "* Normalize words e.g. toLowercase, trimming,..\n",
    "* Remove stopwords (ignored here)\n",
    "* Apply stemming (ignored here)\n",
    "* Group by document id"
   ]
  },
  {
   "cell_type": "code",
   "execution_count": 12,
   "metadata": {},
   "outputs": [
    {
     "data": {
      "text/plain": [
       "defined \u001b[32mfunction\u001b[39m \u001b[36mcreateInvertedIndex\u001b[39m"
      ]
     },
     "execution_count": 12,
     "metadata": {},
     "output_type": "execute_result"
    }
   ],
   "source": [
    "    /**\n",
    "    * Goal: create an inverted index that allows searching a word\n",
    "    * in the movies description.\n",
    "    * Features:\n",
    "    * - case insensitive\n",
    "    *\n",
    "    */\n",
    "    // TODO student\n",
    "    // In this first function we are going to tokenize and order the descriptions of the movies, then return these data. We are not going to apply any search right now.\n",
    "    def createInvertedIndex(movies: RDD[Movie]): RDD[(String, Iterable[Int])] = {\n",
    "        // Define helper functions directly inside this function. In scala you can declare inner functions\n",
    "        // and use them only inside the function they were declared. Useful to encapsulate/restrict \n",
    "        // their use outside this function.\n",
    "        \n",
    "        // Split the given string into an array of words (without any formatting), then return it.\n",
    "        def tokenizeDescription(description: String): Seq[String] = {\n",
    "            description.split(\" \")\n",
    "        }\n",
    "        \n",
    "        // Remove the blank spaces (trim) in the given word, transform it in lowercase, then return it.\n",
    "        def normalizeWord(word: String): String = {\n",
    "            word.toLowerCase.replaceAll(\"-+^.:,\", \"\").stripSuffix(\",\") // remove all useless chars, such as comma\n",
    "        }\n",
    "        \n",
    "        // For the sake of simplicity let's ignore the implementation (in a real case we would return true if w is a stopword, otherwise false).\n",
    "        // TODO student nothing here but still call this function in your invertedIndex creation process.\n",
    "        def isStopWord(w: String): Boolean = {\n",
    "          false\n",
    "        }\n",
    "        \n",
    "        // For the sake of simplicity let's ignore the implementation (in a real case we would apply stemming to w and return the result, e.g. w=automation -> w=automat).\n",
    "        // TODO student nothing here but still call this function in your invertedIndex creation process.\n",
    "        def applyStemming(w: String): String = {\n",
    "          w\n",
    "        }\n",
    "      \n",
    "       // TODO student\n",
    "       // Here we are going to work on the movies RDD, by tokenizing and normalizing the description of every movie, then by building a key-value object that contains the tokens as keys, and the IDs of the movies as values\n",
    "       // (see the example on 4).\n",
    "       // The goal here is to do everything by chaining the possible transformations and actions of Spark.\n",
    "       // Possible steps:\n",
    "       //   1) What we first want to do here is applying the 4 previous methods on any movie's description. Be aware of the fact that we also want to keep the IDs of the movies.\n",
    "       //   2) For each tokenized word, create a tuple as (word, id), where id is the current movie id\n",
    "       //        [\n",
    "       //          (\"toto\", 120), (\"mange\", 120), (\"des\", 120), (\"pommes\", 120),\n",
    "       //          (\"toto\", 121), (\"lance\", 121), (\"des\", 121), (\"photocopies\", 121)\n",
    "       //        ]\n",
    "       //      Hint: you can use a `map` function inside another `map` function.\n",
    "       //   3) We finally need to find a way to remove duplicated keys and thus only having one entry per key, with all the linked IDs as values. For example:\n",
    "       //        [\n",
    "       //          (\"toto\", [120, 121]),\n",
    "       //          (\"mange\", [120]),\n",
    "       //          ...\n",
    "       //        ]\n",
    "        \n",
    "        \n",
    "       // helper : def aggregate[B](z: => B)(seqop: (B, A) => B, combop: (B, B) => B): B\n",
    "       val invertedIndex = rddMovies\n",
    "            .map(m => (m.description, m.id))\n",
    "            .flatMap(d => tokenizeDescription(d._1)\n",
    "                .map(word => (applyStemming(normalizeWord(word)), d._2))) // make the tuples (w, id) with w normalized\n",
    "            .filter(tuple => !isStopWord(tuple._1))\n",
    "            .filter(tuple => tuple._1.nonEmpty)\n",
    "            .distinct() // remove duplicated ids \n",
    "            .groupByKey()\n",
    "            \n",
    "\n",
    "       // Return the new-built inverted index.\n",
    "       invertedIndex\n",
    "  }"
   ]
  },
  {
   "cell_type": "markdown",
   "metadata": {},
   "source": [
    "Now we would like to use our inverted index to display the top N most used words in the descriptions of movies."
   ]
  },
  {
   "cell_type": "code",
   "execution_count": 13,
   "metadata": {},
   "outputs": [
    {
     "data": {
      "text/plain": [
       "defined \u001b[32mfunction\u001b[39m \u001b[36mtopN\u001b[39m"
      ]
     },
     "execution_count": 13,
     "metadata": {},
     "output_type": "execute_result"
    }
   ],
   "source": [
    "// TODO student\n",
    "// Here we are going to operate the analytic and display its result on a given inverted index (that will be obtained from the previous function).\n",
    "def topN(invertedIndex: RDD[(String, Iterable[Int])], N: Int): Unit = {\n",
    "  // TODO student\n",
    "  // We are going to work on the given invertedIndex array to do our analytic:\n",
    "  //   1) Find a way to get the number of movie in which a word appears.\n",
    "  //   2) Keep only the top N words and their occurence.\n",
    "  val topMovies = invertedIndex.sortBy(_._2.size, false).take(N)\n",
    "  \n",
    "  // Print the words and the number of descriptions in which they appear.\n",
    "  println(\"Top '\" + N + \"' most used words\")\n",
    "  topMovies.foreach(println)\n",
    "}"
   ]
  },
  {
   "cell_type": "code",
   "execution_count": 14,
   "metadata": {},
   "outputs": [
    {
     "data": {
      "text/html": [
       "<div>\n",
       "  <span style=\"float: left;\">distinct at cmd11.sc:54</span>\n",
       "</div>\n"
      ]
     },
     "metadata": {},
     "output_type": "display_data"
    },
    {
     "data": {
      "text/html": [
       "<div class=\"progress\">\n",
       "  <div class=\"progress-bar\" role=\"progressbar\" style=\"background-color: blue; width: 100%; word-wrap: normal; white-space: nowrap; text-align: center; color: white\" aria-valuenow=\"100\" aria-valuemin=\"0\" aria-valuemax=\"100\">\n",
       "    1 / 1\n",
       "  </div>\n",
       "  <div class=\"progress-bar\" role=\"progressbar\" style=\"background-color: red; width: 0%\" aria-valuenow=\"0\" aria-valuemin=\"0\" aria-valuemax=\"100\"></div>\n",
       "</div>\n"
      ]
     },
     "metadata": {},
     "output_type": "display_data"
    },
    {
     "data": {
      "text/html": [
       "<div>\n",
       "  <span style=\"float: left;\">distinct at cmd11.sc:54</span>\n",
       "</div>\n"
      ]
     },
     "metadata": {},
     "output_type": "display_data"
    },
    {
     "data": {
      "text/html": [
       "<div class=\"progress\">\n",
       "  <div class=\"progress-bar\" role=\"progressbar\" style=\"background-color: blue; width: 100%; word-wrap: normal; white-space: nowrap; text-align: center; color: white\" aria-valuenow=\"100\" aria-valuemin=\"0\" aria-valuemax=\"100\">\n",
       "    1 / 1\n",
       "  </div>\n",
       "  <div class=\"progress-bar\" role=\"progressbar\" style=\"background-color: red; width: 0%\" aria-valuenow=\"0\" aria-valuemin=\"0\" aria-valuemax=\"100\"></div>\n",
       "</div>\n"
      ]
     },
     "metadata": {},
     "output_type": "display_data"
    },
    {
     "data": {
      "text/html": [
       "<div>\n",
       "  <span style=\"float: left;\">take at cmd13.sc:4</span>\n",
       "</div>\n"
      ]
     },
     "metadata": {},
     "output_type": "display_data"
    },
    {
     "data": {
      "text/html": [
       "<div class=\"progress\">\n",
       "  <div class=\"progress-bar\" role=\"progressbar\" style=\"background-color: blue; width: 100%; word-wrap: normal; white-space: nowrap; text-align: center; color: white\" aria-valuenow=\"100\" aria-valuemin=\"0\" aria-valuemax=\"100\">\n",
       "    1 / 1\n",
       "  </div>\n",
       "  <div class=\"progress-bar\" role=\"progressbar\" style=\"background-color: red; width: 0%\" aria-valuenow=\"0\" aria-valuemin=\"0\" aria-valuemax=\"100\"></div>\n",
       "</div>\n"
      ]
     },
     "metadata": {},
     "output_type": "display_data"
    },
    {
     "name": "stdout",
     "output_type": "stream",
     "text": [
      "divorcee: 63\n",
      "reunion: 697\n",
      "confidants: 785\n"
     ]
    },
    {
     "data": {
      "text/html": [
       "<div>\n",
       "  <span style=\"float: left;\">sortBy at cmd12.sc:6</span>\n",
       "</div>\n"
      ]
     },
     "metadata": {},
     "output_type": "display_data"
    },
    {
     "data": {
      "text/html": [
       "<div class=\"progress\">\n",
       "  <div class=\"progress-bar\" role=\"progressbar\" style=\"background-color: blue; width: 100%; word-wrap: normal; white-space: nowrap; text-align: center; color: white\" aria-valuenow=\"100\" aria-valuemin=\"0\" aria-valuemax=\"100\">\n",
       "    1 / 1\n",
       "  </div>\n",
       "  <div class=\"progress-bar\" role=\"progressbar\" style=\"background-color: red; width: 0%\" aria-valuenow=\"0\" aria-valuemin=\"0\" aria-valuemax=\"100\"></div>\n",
       "</div>\n"
      ]
     },
     "metadata": {},
     "output_type": "display_data"
    },
    {
     "data": {
      "text/html": [
       "<div>\n",
       "  <span style=\"float: left;\">take at cmd12.sc:6</span>\n",
       "</div>\n"
      ]
     },
     "metadata": {},
     "output_type": "display_data"
    },
    {
     "data": {
      "text/html": [
       "<div class=\"progress\">\n",
       "  <div class=\"progress-bar\" role=\"progressbar\" style=\"background-color: blue; width: 100%; word-wrap: normal; white-space: nowrap; text-align: center; color: white\" aria-valuenow=\"100\" aria-valuemin=\"0\" aria-valuemax=\"100\">\n",
       "    1 / 1\n",
       "  </div>\n",
       "  <div class=\"progress-bar\" role=\"progressbar\" style=\"background-color: red; width: 0%\" aria-valuenow=\"0\" aria-valuemin=\"0\" aria-valuemax=\"100\"></div>\n",
       "</div>\n"
      ]
     },
     "metadata": {},
     "output_type": "display_data"
    },
    {
     "name": "stdout",
     "output_type": "stream",
     "text": [
      "Top '10' most used words\n",
      "(a,CompactBuffer(112, 320, 78, 762, 980, 145, 683, 300, 463, 876, 940, 422, 161, 547, 694, 440, 664, 563, 612, 119, 365, 222, 31, 302, 926, 156, 952, 627, 577, 121, 228, 59, 81, 21, 4, 449, 498, 985, 735, 715, 894, 444, 562, 837, 450, 594, 669, 816, 3, 496, 69, 806, 369, 372, 107, 403, 519, 864, 22, 332, 2, 288, 730, 823, 157, 208, 170, 445, 50, 443, 461, 483, 904, 855, 329, 564, 357, 16, 110, 352, 240, 924, 339, 987, 951, 148, 822, 298, 491, 230, 410, 336, 268, 195, 933, 388, 599, 387, 70, 32, 626, 42, 393, 138, 542, 912, 703, 513, 698, 773, 454, 825, 283, 617, 953, 244, 801, 757, 932, 573, 348, 17, 363, 961, 711, 251, 767, 537, 297, 984, 113, 370, 314, 95, 807, 878, 201, 242, 676, 517, 821, 813, 258, 838, 962, 692, 778, 60, 857, 171, 149, 988, 631, 430, 255, 51, 947, 942, 135, 648, 653, 724, 180, 185, 795, 539, 512, 111, 13, 130, 41, 557, 262, 420, 139, 847, 637, 986, 104, 120, 673, 331, 311, 660, 720, 353, 131, 351, 799, 533, 490, 903, 731, 83, 827, 862, 213, 186, 888, 39, 8, 560, 270, 272, 629, 74, 718, 842, 380, 662, 5, 928, 810, 494, 976, 804, 705, 396, 589, 480, 790, 887, 328, 760, 581, 836, 739, 635, 122, 679, 38, 94, 609, 586, 277, 345, 233, 137, 256, 468, 597, 398, 840, 323, 578, 429, 286, 872, 30, 219, 641, 646, 175, 902, 749, 949, 126, 29, 280, 43, 106, 86, 179, 182, 408, 774, 841, 624, 651, 212, 909, 267, 969, 261, 593, 509, 224, 362, 750, 260, 6, 695, 378, 820, 281, 784, 406, 781, 610, 282, 364, 713, 970, 601, 360, 249, 209, 919, 733, 895, 945, 741, 881, 719, 526, 383, 687, 936, 276, 405, 708, 569, 745, 432, 925, 114, 966, 595, 47, 978, 484, 777, 554, 291, 723, 659, 80, 638, 416, 616, 965, 289, 9, 729, 25, 613, 691, 437, 668, 321, 939, 358, 340, 890, 858, 421, 628, 399, 220, 14, 845, 722, 460, 169, 310, 292, 704, 342, 550, 661, 152, 558, 160, 158, 190, 935, 755, 865, 511, 324, 88, 162, 898, 492, 689, 860, 330, 471, 938, 979, 306, 561, 163, 452, 481, 647, 604, 677, 215, 850, 229, 346, 7, 374, 62, 465, 792, 549, 257, 232, 574, 854, 588, 525, 717, 247, 771, 486, 528, 207, 843, 534, 103, 194, 284, 407, 433, 751, 828, 89, 116, 379, 606, 196, 165, 728, 759, 386, 48, 136, 269, 204, 565, 487, 153, 981, 995, 108, 172, 990, 144, 49, 371, 309, 10, 765, 68, 206, 796, 615, 350, 493, 347, 425, 633, 477, 623, 191, 488, 100, 585, 734, 769, 287, 164, 382, 959, 798, 654, 848, 632, 579, 649, 545, 239, 707, 891, 996, 696, 211, 716, 63, 927, 1000, 702, 155, 746, 417, 478, 833, 301, 381, 671, 150, 313, 997, 375, 866, 685, 901, 227, 177, 809, 885, 146, 644, 77, 766, 93, 699, 518, 377, 218, 141, 697, 97, 572, 368, 943, 946, 971, 37, 392, 973, 167, 231, 359, 367, 28, 737, 133, 727, 923, 61, 506, 467, 514, 665, 173, 905, 672, 187, 316, 877, 373, 482, 299, 582, 285, 459, 479, 245, 446, 154, 189, 546, 992, 650, 783, 385, 744, 456, 861, 279, 658, 893, 129, 752, 441, 982, 536, 105, 930, 293, 889, 584, 132, 543, 264, 127, 886, 896, 552, 681, 266, 899, 84, 625, 530, 611, 499, 318, 645, 587, 96, 620, 503, 544, 176, 954, 142, 931, 344, 670, 238, 426, 868, 559, 621, 960, 770, 596, 911, 341, 553, 690, 824, 941, 688, 706, 489, 918, 639, 248, 19, 802, 366, 908, 768, 591, 290, 508, 117, 955, 225, 99, 747, 819, 583, 756, 522, 27, 818, 738, 312, 1, 922, 753, 794, 304, 278, 684, 758, 109, 775, 34, 174, 469, 404, 44, 448, 123, 151, 75, 826, 166, 964, 835, 839, 655, 957, 567, 246, 438, 910, 812, 541, 937, 294, 98, 643, 535, 736, 273, 967, 712, 867, 45, 223, 504, 397, 453, 418, 968, 394, 805, 907, 495, 592, 779, 531, 435, 725, 71, 303, 82, 787, 551, 527, 451, 556, 202, 693, 983, 500, 663, 447, 656, 856, 883, 401, 505, 12, 243, 389, 66, 761, 999, 944, 618, 15, 652, 501, 274, 442, 994, 92, 400, 622, 972, 184, 934, 870, 87, 524, 989, 598, 354, 808, 35, 859, 575, 26, 413, 763, 913, 916, 349, 950, 811, 337, 343, 275, 914, 183, 250, 852, 975, 134, 423, 920, 600, 462, 412, 210, 355, 390, 214, 226, 830, 427, 844, 36, 457, 475, 764, 338, 921, 296, 192, 817, 532, 473, 90, 873, 884, 743, 590, 428, 797, 619, 605, 740, 221, 710, 700, 834, 516, 436, 57, 46, 414, 197, 308, 72, 782, 23, 128, 667, 701, 24, 666, 376, 200, 241, 555, 73, 464, 178, 58, 188, 198, 217, 411))\n",
      "(the,CompactBuffer(232, 366, 860, 374, 965, 248, 881, 40, 16, 309, 578, 12, 448, 449, 788, 763, 973, 521, 495, 941, 857, 94, 307, 404, 706, 953, 944, 710, 24, 439, 1000, 874, 477, 292, 250, 997, 527, 868, 776, 178, 672, 41, 506, 862, 922, 239, 768, 948, 574, 83, 182, 756, 31, 966, 26, 882, 46, 151, 462, 679, 325, 164, 897, 557, 584, 619, 866, 653, 709, 259, 842, 938, 724, 903, 414, 790, 661, 91, 2, 208, 271, 289, 375, 386, 933, 782, 920, 385, 958, 397, 626, 480, 918, 22, 516, 549, 227, 844, 398, 304, 680, 880, 407, 421, 344, 841, 888, 99, 294, 793, 769, 140, 583, 157, 998, 685, 780, 745, 430, 434, 849, 6, 753, 317, 419, 303, 805, 65, 764, 893, 673, 955, 160, 168, 143, 573, 262, 447, 484, 482, 401, 622, 298, 197, 835, 226, 886, 187, 89, 88, 519, 90, 795, 377, 108, 895, 910, 79, 73, 755, 68, 388, 767, 19, 217, 479, 539, 111, 947, 577, 305, 467, 180, 688, 999, 181, 954, 264, 142, 426, 265, 472, 55, 163, 173, 118, 222, 803, 234, 352, 53, 104, 328, 792, 940, 457, 503, 423, 359, 57, 300, 548, 275, 332, 293, 52, 416, 530, 931, 3, 393, 970, 175, 169, 461, 30, 789, 840, 508, 499, 777, 229, 839, 890, 601, 186, 191, 754, 415, 364, 193, 775, 727, 936, 988, 383, 122, 889, 131, 660, 101, 865, 562, 759, 686, 1, 617, 464, 456, 290, 492, 702, 815, 341, 442, 451, 15, 86, 555, 102, 446, 675, 830, 714, 770, 28, 945, 674, 628, 183, 158, 976, 977, 141, 864, 368, 21, 47, 347, 314, 238, 904, 786, 644, 48, 900, 926, 978, 847, 62, 670, 610, 42, 872, 831, 392, 730, 431, 132, 465, 861, 851, 437, 324, 620, 409, 139, 509, 820, 833, 558, 608, 4, 856, 274, 360, 551, 707, 579, 148, 373, 984, 378, 658, 528, 302, 417, 463, 333, 380, 120, 249, 444, 736, 552, 531, 742, 687, 533, 785, 932, 67, 280, 848, 172, 284, 441, 643, 253, 915, 589, 84, 845, 550, 25, 470, 81, 811, 115, 323, 9, 78, 107, 807, 808, 538, 916, 752, 985, 693, 665, 365, 891, 355, 246, 236, 906, 582, 536, 452, 651, 716, 946, 202, 114, 715, 268, 992, 735, 593, 690, 381, 13, 682, 765, 38, 20, 370, 657, 501, 576, 244, 455, 969, 150, 639, 308, 689, 772, 560, 623, 215, 334, 211, 144, 740, 376, 126, 677, 412, 433, 315, 471, 288, 877, 363, 535, 161, 124, 580, 989, 171, 354, 340, 498, 225, 408, 520, 834, 632, 112, 725, 396, 732, 666, 771, 256, 802, 342, 697, 353, 645, 614, 960, 5, 145, 350, 413, 919, 731, 44, 54, 184, 625, 237, 518, 66, 504, 97, 8, 684, 11, 546, 824, 338, 177, 119, 713, 968, 369, 402, 829, 565, 974, 821, 774, 60, 198, 349, 245, 766, 994, 335, 488, 867, 311, 399, 478, 14, 138, 778, 209, 939, 540, 696, 105, 600, 481, 313, 428, 884, 346, 23, 43, 852, 523, 781, 564, 571, 96, 384, 100, 51, 170, 603, 892, 18, 129, 975, 429, 130, 185, 980, 876, 318, 491, 896, 285, 475, 206, 797, 154, 825, 387, 483, 82, 908, 854, 804, 454, 418, 123, 152, 650, 489, 911, 476, 751, 35, 263, 512, 991, 541, 859, 425, 711, 587, 176, 72, 586, 681, 56, 357, 547, 814, 367, 278, 750, 74, 635, 93, 642, 110, 636, 493, 321, 254, 445, 121, 846, 798, 656, 963, 200, 809, 529, 59, 837, 327, 748, 517, 243, 92, 205, 542, 566, 291, 195, 76, 729, 201, 913, 438, 49, 746, 240, 322, 719, 553, 281, 231, 272, 77, 279, 301, 432, 424, 594, 983, 260, 127, 485, 297, 295, 36, 604, 618, 316, 652, 233, 71, 823, 33, 356, 155, 836, 17, 588, 816, 704, 511, 993, 606, 133, 887, 70, 721, 80, 116, 534, 671, 879, 905, 667, 605, 567, 514, 917, 515, 637, 934, 971, 343, 496, 563, 61, 728, 507, 738, 924, 320, 575, 630, 258, 559, 203, 261, 460, 87, 832, 358, 760, 734, 188, 794, 855, 199, 678, 930, 474, 269, 995, 331, 599, 167, 943, 95, 326, 928, 39, 898, 216, 306, 391, 125, 137, 627, 773, 235, 213))\n",
      "(to,CompactBuffer(184, 205, 573, 999, 539, 199, 77, 495, 845, 475, 753, 910, 104, 34, 160, 601, 551, 398, 934, 858, 566, 327, 458, 614, 56, 789, 571, 183, 818, 724, 142, 882, 792, 262, 815, 321, 190, 332, 377, 725, 513, 356, 466, 170, 213, 800, 207, 519, 4, 761, 209, 175, 703, 946, 483, 819, 350, 43, 950, 949, 625, 699, 57, 254, 219, 235, 169, 896, 619, 778, 975, 60, 572, 298, 431, 434, 125, 884, 399, 117, 255, 936, 986, 415, 133, 627, 558, 872, 372, 595, 480, 115, 962, 69, 33, 26, 727, 447, 564, 794, 39, 652, 157, 751, 314, 874, 288, 528, 759, 79, 24, 324, 820, 863, 621, 382, 594, 301, 606, 630, 739, 393, 270, 869, 613, 856, 541, 801, 622, 227, 2, 585, 163, 129, 291, 776, 150, 583, 122, 172, 770, 682, 533, 691, 795, 847, 995, 151, 527, 762, 932, 400, 329, 600, 463, 656, 196, 895, 746, 599, 618, 371, 880, 492, 916, 719, 149, 370, 521, 772, 472, 456, 100, 261, 655, 644, 892, 354, 343, 645, 764, 683, 1, 994, 484, 365, 488, 135, 757, 128, 62, 505, 405, 95, 265, 889, 955, 894, 660, 597, 807, 138, 806, 861, 971, 451, 876, 926, 116, 168, 41, 569, 363, 888, 88, 602, 915, 247, 985, 641, 470, 500, 202, 728, 890, 19, 590, 923, 293, 548, 720, 244, 380, 654, 629, 544, 355, 145, 927, 835, 589, 673, 275, 362, 604, 918, 17, 904, 384, 542, 153, 942, 658, 433, 756, 256, 8, 968, 339, 214, 612, 543, 317, 294, 977, 368, 576, 452, 220, 180, 416, 193, 626, 373, 974, 588, 478, 844, 337, 563, 246, 225, 179, 675, 750, 969, 164, 53, 637, 173, 197, 623, 385, 48, 741, 617, 586, 37, 423, 360, 449, 550, 681, 788, 65, 361, 979, 633, 401, 828, 565, 440, 471, 21, 353, 132, 546, 497, 980, 230, 479, 562, 167, 532, 953, 899, 526, 154, 902, 152, 767, 379, 574, 714, 593, 171, 271, 5, 268, 722, 159, 187, 793, 143, 249, 829, 854, 851, 258, 10, 582, 13, 411, 425, 646, 516, 836, 312, 461, 694, 106, 323, 875, 430, 165, 52, 250, 954, 610, 607, 643, 857, 386, 636, 598, 743, 75, 931, 992, 504, 276, 341, 82, 378, 366, 914, 234, 74, 203, 677, 459, 898, 102, 185, 240, 632, 436, 474, 93, 849, 485, 419, 781, 158, 421, 307, 55, 535, 553, 121, 295, 913, 204, 581, 531, 331, 678, 827, 394, 237, 960, 352, 657, 267, 547, 408, 515, 429, 188, 653, 704, 952, 510, 457, 221, 796, 715, 855, 347, 402, 668, 318, 334, 22, 937, 850, 409, 990, 243, 866, 799, 35, 176, 841, 109, 392, 390, 161, 391, 499, 690, 251, 709, 51, 518, 126, 302, 80, 54, 226, 929, 99, 97, 608, 482, 110, 201, 272, 726, 873, 891, 364, 997, 809, 779, 567, 198, 297, 18, 749, 804, 439, 496, 123, 94, 774, 486, 773, 3, 460, 878, 236, 824, 49, 389, 860, 31, 514, 538, 435, 67, 136, 286, 259, 369, 988, 131, 178, 922, 611, 141, 344, 659, 212, 661, 395, 520, 320, 545, 412, 647, 785, 561, 771, 283, 403, 206, 879, 721, 46, 63, 853, 907, 966, 348, 78, 103, 146, 512, 305, 83, 786, 734, 752, 650, 273, 309, 351, 791, 282, 174, 702, 868, 763, 664, 441, 560, 257, 730, 232, 229, 410, 811, 98, 700, 15, 367, 473, 768, 469, 454, 217, 843, 615, 14, 798, 745, 90, 233, 330, 956, 935, 729, 105, 605, 686, 689, 242, 557, 108, 911, 777, 211, 333, 194, 959, 264, 587, 708, 852, 961, 274, 134, 383, 503, 834, 342, 812, 92, 481, 349, 127, 73, 813, 245, 111, 993, 920))\n",
      "(of,CompactBuffer(603, 304, 904, 951, 236, 680, 512, 107, 248, 684, 33, 672, 676, 257, 282, 313, 268, 116, 284, 697, 669, 990, 868, 692, 124, 360, 527, 983, 393, 302, 622, 131, 381, 206, 702, 74, 975, 129, 515, 332, 71, 865, 231, 690, 991, 937, 987, 894, 228, 780, 452, 244, 689, 724, 417, 909, 509, 61, 642, 20, 21, 776, 483, 829, 563, 102, 577, 681, 158, 998, 511, 667, 465, 139, 188, 295, 376, 311, 917, 211, 857, 1, 645, 763, 489, 745, 673, 369, 204, 44, 896, 51, 942, 685, 999, 148, 554, 675, 344, 948, 811, 446, 125, 375, 394, 476, 887, 713, 2, 43, 618, 506, 5, 294, 75, 961, 153, 462, 399, 658, 496, 938, 235, 454, 891, 182, 357, 734, 874, 325, 620, 501, 225, 752, 547, 637, 530, 135, 760, 905, 777, 178, 837, 779, 352, 728, 899, 216, 584, 895, 918, 775, 814, 859, 473, 735, 10, 427, 16, 59, 710, 11, 142, 781, 273, 19, 786, 243, 48, 196, 451, 239, 876, 387, 967, 766, 285, 517, 787, 830, 181, 416, 414, 605, 388, 945, 726, 495, 328, 94, 113, 589, 650, 592, 80, 326, 49, 841, 114, 729, 872, 890, 626, 542, 170, 946, 356, 143, 545, 771, 849, 533, 120, 670, 559, 37, 723, 834, 428, 205, 499, 281, 915, 842, 449, 912, 548, 881, 6, 892, 55, 639, 529, 156, 275, 215, 300, 81, 693, 318, 29, 493, 671, 98, 477, 472, 62, 22, 858, 866, 343, 317, 688, 988, 161, 68, 833, 943, 263, 614, 765, 40, 386, 521, 307, 821, 731, 625, 138, 911, 601, 740, 87, 944, 773, 733, 848, 367, 552, 864, 176, 398, 994, 627, 960, 237, 86, 604, 423, 191, 560, 127, 432, 183, 323, 540, 380, 479, 438, 392, 18, 444, 785, 704, 966, 519, 306, 491, 3, 970, 629, 687, 272, 390, 413, 197, 288, 210, 594, 238, 50, 651, 128, 835, 996, 185, 256, 370, 514, 310, 279, 226, 958, 290, 424, 363, 769, 914, 79, 617, 924, 364, 312, 280, 484, 722, 165, 668, 730, 467, 836, 798, 384, 531, 898, 474, 439, 23, 266, 908, 324, 748, 578, 963, 431, 118, 200, 1000, 378, 593, 778, 649, 739, 794, 76, 134, 70, 743, 471, 289, 171, 873, 83, 366, 117, 736, 57, 660, 576, 42, 741, 104, 539, 198, 422, 283, 144, 902, 889, 443, 89, 541, 599, 434, 764, 327, 298, 535, 145, 415, 480, 430, 665, 930, 567, 528, 404, 644, 419, 955, 47, 828, 209, 396, 926, 453, 523, 635, 608, 957, 82, 705, 67, 575, 407, 46, 111, 172, 788, 624, 750, 686, 60, 574, 971, 17, 186, 232, 536, 641, 208, 374, 984, 78, 155, 54, 426, 418, 921, 126, 348, 953, 337, 628, 831, 825, 309, 162, 4, 797, 695, 342, 253, 464, 262, 405, 84, 738, 96, 716, 820, 897, 26, 301, 968, 579, 903, 989, 227, 803, 391, 38, 884, 193, 824, 657, 249, 482, 486, 823, 562, 177, 133, 980, 558, 806, 93, 978, 73, 965, 12, 372, 35, 721, 549, 566, 152, 222, 709, 195, 28, 861, 34, 586, 461, 770, 494, 995, 203, 941, 169, 582, 110, 30, 437, 320, 561, 314, 475, 638, 409, 245, 498, 187, 550, 321, 305, 910, 809, 72, 130, 940, 922, 950, 377, 969, 261, 954))\n",
      "(and,CompactBuffer(876, 266, 45, 136, 297, 336, 221, 869, 888, 813, 565, 106, 980, 281, 612, 852, 745, 90, 277, 165, 923, 947, 841, 794, 77, 683, 140, 618, 552, 213, 466, 300, 984, 684, 713, 150, 182, 257, 248, 36, 228, 326, 669, 360, 924, 578, 769, 92, 497, 553, 953, 23, 977, 759, 849, 640, 379, 83, 638, 706, 976, 670, 656, 179, 116, 406, 960, 276, 803, 896, 698, 551, 284, 665, 739, 686, 931, 809, 587, 983, 414, 256, 949, 288, 162, 48, 215, 789, 499, 126, 359, 59, 940, 799, 364, 324, 220, 865, 807, 117, 227, 613, 234, 62, 310, 661, 531, 570, 308, 253, 255, 662, 480, 216, 186, 571, 615, 910, 50, 47, 463, 279, 550, 548, 717, 892, 275, 455, 15, 762, 344, 94, 597, 740, 88, 569, 198, 627, 512, 137, 582, 28, 708, 95, 282, 793, 242, 867, 114, 184, 142, 554, 210, 371, 273, 966, 103, 464, 861, 42, 343, 508, 870, 222, 249, 98, 180, 973, 764, 431, 112, 438, 848, 890, 703, 824, 885, 622, 749, 681, 932, 780, 978, 711, 330, 157, 193, 135, 421, 601, 590, 864, 353, 419, 181, 558, 412, 127, 482, 982, 600, 872, 380, 402, 604, 954, 237, 967, 413, 301, 950, 625, 517, 191, 626, 201, 714, 863, 374, 183, 489, 958, 154, 442, 901, 878, 528, 518, 101, 516, 352, 796, 904, 985, 750, 806, 138, 407, 348, 491, 815, 214, 391, 564, 773, 693, 593, 930, 388, 433, 915, 610, 902, 894, 315, 311, 798, 573, 726, 384, 926, 678, 837, 944, 842, 176, 699, 52, 630, 917, 312, 566, 10, 91, 120, 621, 663, 606, 611, 448, 320, 411, 788, 34, 816, 826, 511, 830, 519, 858, 44, 356, 17, 76, 633, 49, 710, 785, 920, 93, 624, 544, 302, 332, 818, 828, 163, 189, 776, 175, 75, 595, 377, 285, 647, 695, 829, 272, 323, 880, 477, 734, 445, 513, 667, 668, 111, 239, 707, 727, 682, 447, 235, 905, 498, 55, 937, 156, 928, 839, 305, 293, 161, 753, 814, 80, 851, 378, 781, 821, 557, 496, 481, 441, 346, 955, 632, 232, 988, 219, 449, 260, 71, 21, 853, 857, 113, 655, 121, 478, 755, 561, 743, 689, 208, 898, 484, 85, 458, 29, 11, 677, 485, 143, 56, 408, 410, 118, 992, 271, 712, 238, 660, 840, 132, 515, 675, 401, 850, 226, 772, 616, 811, 268, 540, 122, 67, 760, 40, 834, 709, 51, 871, 429, 318, 415, 521, 269, 452, 105, 373, 74, 579, 24, 265, 916, 307, 38, 723, 936, 395, 314, 935, 245, 724, 594, 218, 244, 472, 742, 474, 160, 584, 520, 217, 155, 340, 60, 296, 887, 748, 400, 436, 358, 831, 335, 457, 96, 70, 82, 209, 355, 280, 765, 777, 321, 868, 432, 130, 240, 357, 874, 338, 196, 46, 592, 89, 369, 87, 382, 645, 969, 989, 909, 173, 567, 325, 918, 354, 538, 345, 705, 786, 212, 736, 991, 637, 507, 895, 623, 115, 456, 534, 424, 735, 451, 899, 434, 483, 233, 506, 942, 167, 30, 997, 69, 576, 27, 939, 845, 688, 450, 241, 504, 676, 836, 738, 328, 416, 439, 86, 327, 79, 428, 197, 188, 784, 440, 825, 390, 721, 100, 766, 974, 435, 333, 337, 68, 913, 741, 546, 461, 171))\n",
      "(in,CompactBuffer(414, 642, 874, 499, 786, 364, 438, 82, 314, 342, 885, 944, 407, 246, 469, 968, 897, 35, 840, 851, 916, 382, 610, 527, 863, 821, 231, 139, 475, 279, 631, 21, 69, 802, 514, 240, 307, 810, 53, 150, 541, 875, 842, 112, 72, 785, 122, 740, 90, 994, 11, 635, 745, 75, 347, 518, 198, 87, 827, 701, 354, 10, 749, 274, 68, 859, 961, 349, 402, 4, 9, 531, 767, 498, 774, 526, 371, 795, 432, 550, 805, 56, 106, 990, 617, 188, 811, 725, 176, 251, 504, 50, 48, 318, 542, 436, 388, 608, 553, 562, 734, 96, 590, 565, 285, 111, 161, 65, 932, 596, 577, 605, 710, 384, 471, 966, 366, 17, 765, 8, 867, 389, 895, 36, 680, 974, 519, 776, 206, 536, 185, 146, 324, 102, 763, 952, 939, 910, 967, 163, 506, 977, 419, 257, 913, 410, 58, 455, 760, 186, 768, 718, 623, 222, 868, 39, 789, 118, 256, 416, 656, 489, 224, 152, 762, 459, 648, 870, 277, 296, 203, 570, 44, 393, 857, 383, 189, 226, 959, 367, 70, 921, 110, 434, 216, 113, 681, 40, 372, 333, 766, 554, 521, 408, 268, 290, 877, 753, 756, 128, 477, 941, 558, 468, 262, 287, 730, 593, 512, 417, 446, 460, 119, 164, 574, 143, 60, 500, 12, 928, 703, 736, 316, 912, 247, 162, 659, 855, 854, 551, 195, 985, 848, 302, 165, 409, 37, 47, 572, 524, 836, 704, 920, 182, 97, 390, 204, 750, 580, 482, 445, 212, 278, 157, 115, 341, 179, 454, 447, 303, 425, 522, 692, 114, 503, 175, 699, 861, 105, 618, 116, 130, 637, 391, 483, 502, 207, 398, 360, 784, 270, 19, 917, 353, 282, 356, 534, 492, 292, 717, 533, 255, 141, 435, 579, 491, 800, 23, 984, 488, 232, 677, 306, 644, 560, 137, 792, 309, 14, 6, 621, 926, 888, 510, 99, 208, 918, 666, 166, 676, 640, 273, 829, 899, 326, 337, 587, 927, 652, 217, 16, 616, 184, 27, 433, 320, 898, 638, 690, 202, 538, 308, 726, 962, 946, 387, 901, 154, 403, 291, 42, 7, 310, 694, 423, 738, 100, 954, 838, 357, 124, 956, 89, 589, 653, 495, 294, 937, 78, 728, 559, 751, 552, 481, 746, 108, 938, 669, 958, 992, 159, 887, 739, 241, 377, 412, 210, 15, 368, 935, 688, 365, 300, 339, 63, 140, 706, 556, 442, 312, 448, 370, 452, 924, 866, 953, 323, 539, 457, 869, 148, 825, 180, 668, 381, 955, 45, 812, 351, 289, 373, 211, 253, 620, 497, 878, 905, 893, 573, 131, 429, 591, 790, 906, 169, 687, 978, 227, 71, 346, 509, 172, 818, 645, 260, 155, 886, 864, 662, 94, 269, 777, 651, 721, 496, 654, 313, 697))\n",
      "(his,CompactBuffer(781, 302, 468, 866, 811, 180, 441, 641, 948, 104, 799, 600, 141, 420, 211, 184, 172, 761, 541, 794, 513, 936, 347, 738, 411, 766, 654, 261, 389, 694, 828, 871, 83, 165, 504, 1000, 661, 610, 724, 428, 523, 416, 360, 254, 474, 673, 682, 135, 370, 771, 266, 647, 19, 497, 138, 464, 554, 591, 31, 960, 103, 916, 993, 850, 978, 717, 923, 477, 187, 382, 374, 972, 890, 334, 267, 743, 578, 760, 250, 320, 625, 899, 806, 224, 4, 148, 842, 294, 636, 79, 775, 898, 719, 22, 202, 459, 826, 531, 839, 492, 931, 599, 621, 337, 46, 769, 985, 145, 436, 369, 376, 774, 171, 947, 615, 789, 604, 558, 45, 407, 980, 191, 500, 861, 802, 838, 350, 309, 466, 274, 256, 817, 343, 125, 285, 742, 136, 880, 612, 397, 522, 406, 328, 344, 705, 197, 780, 940, 569, 745, 388, 362, 33, 853, 730, 89, 85, 118, 241, 611, 756, 30, 55, 82, 864, 753, 356, 992, 341, 372, 295, 949, 69, 174, 809, 217, 566, 395, 888, 248, 481, 594, 815, 243, 759, 371, 750, 728, 127, 489, 586, 505, 479, 542, 239, 706, 225, 869, 870, 417, 195, 651, 968, 108, 746, 158, 933, 863, 282, 887, 515, 451, 847, 629, 88, 570, 106, 499, 60, 831, 41, 159, 883, 454, 846, 825, 134, 632, 725, 90, 116, 327, 696, 930, 380, 580, 700, 686, 439, 712, 540, 305, 715, 364, 979, 713, 358, 480, 73, 473, 185, 377, 726, 762, 950, 709, 461, 455, 564, 260, 708, 332, 782, 11, 598, 440, 221, 624, 736, 130, 301, 84, 276, 233, 131, 452, 698, 884, 132, 456, 198, 776, 595, 164, 536, 232, 448, 16, 410, 938, 790, 91, 403, 77, 783, 646, 330, 366, 189, 951, 788, 657, 175, 415, 348, 269, 711, 318, 703, 602, 835, 283, 702, 986, 18, 434, 620, 919, 854, 677, 952, 581, 959, 934, 378, 95))\n",
      "(an,CompactBuffer(776, 616, 643, 938, 305, 228, 244, 748, 903, 896, 489, 65, 606, 315, 194, 927, 216, 443, 377, 846, 597, 559, 470, 991, 691, 27, 217, 688, 103, 993, 336, 331, 967, 375, 278, 957, 168, 324, 385, 830, 280, 213, 202, 978, 904, 231, 37, 259, 508, 754, 200, 281, 784, 265, 992, 268, 669, 618, 92, 637, 779, 932, 855, 220, 15, 364, 713, 399, 384, 889, 163, 847, 192, 810, 388, 795, 634, 785, 605, 838, 632, 81, 539, 124, 700, 58, 502, 818, 877, 186, 298, 736, 295, 718, 311, 801, 288, 245, 323, 389, 98, 322, 827, 902, 223, 621, 769, 174, 557, 732, 530, 875, 772, 462, 664, 840, 491, 111, 504, 751, 553, 412, 873, 240, 705, 123, 234, 7, 898, 758, 756, 749, 370, 845, 155, 14, 971, 777, 107, 56, 48, 976, 945, 820, 763, 195, 28, 128, 490, 351, 482, 409, 680, 116, 924, 169, 815, 612, 842, 520, 886, 836, 396, 485, 236, 250, 257, 762, 860, 312, 154, 136, 726, 719, 60, 26, 630, 750, 344, 510, 673, 442, 525, 84, 349, 263, 260, 602, 474, 966, 391, 823, 286, 884, 363, 800, 839, 66, 287, 545, 733, 943, 871, 761, 151, 207, 188, 674, 692, 258, 917, 959, 204, 925, 93, 456, 983, 540, 909, 376, 793, 321, 267, 572, 478, 848, 275, 54, 289, 429, 209, 573, 533, 961, 607, 150, 100, 497, 416, 620, 477, 570, 990, 885, 906, 568, 914, 50, 229, 695, 685, 593, 134, 494, 704, 314, 469, 420, 232))\n",
      "(is,CompactBuffer(146, 778, 712, 751, 709, 974, 955, 485, 200, 16, 420, 103, 813, 992, 144, 20, 31, 119, 504, 730, 254, 566, 34, 572, 443, 292, 389, 650, 186, 851, 792, 304, 584, 547, 996, 233, 681, 260, 914, 558, 133, 471, 952, 588, 491, 482, 188, 533, 267, 184, 989, 765, 185, 371, 251, 896, 767, 318, 673, 398, 799, 455, 206, 221, 850, 15, 257, 923, 142, 708, 655, 112, 236, 372, 774, 523, 768, 925, 581, 779, 296, 819, 794, 964, 366, 268, 35, 617, 828, 783, 56, 917, 312, 456, 434, 894, 181, 332, 271, 777, 505, 354, 324, 832, 810, 842, 458, 690, 855, 229, 571, 48, 105, 790, 986, 385, 651, 683, 357, 806, 177, 342, 108, 402, 242, 72, 707, 560, 580, 713, 433, 282, 892, 529, 700, 775, 934, 648, 348, 512, 903, 25, 905, 519, 950, 215, 985, 160, 711, 703, 626, 960, 374, 978, 654, 317, 38, 403, 795, 462, 469, 591, 30, 369, 857, 362, 736, 45, 88, 202, 110, 601, 232, 844, 352, 891, 329, 848, 595, 716, 384, 625, 862, 719, 325, 627, 647, 209, 932, 445, 525, 280, 859, 82, 408, 664, 182, 674, 921, 295, 154, 421, 665, 396, 883, 959, 803, 47, 81, 916, 692, 972, 18, 726, 899, 563, 893, 220, 904, 22, 801, 224, 630, 543, 957, 32, 223, 290, 380, 124, 102, 125, 261, 682, 326, 741, 942, 286, 415, 404, 854, 909, 953, 881, 979, 971, 187, 930, 448, 927, 333, 441, 956, 518, 695))\n",
      "(with,CompactBuffer(484, 73, 720, 692, 423, 337, 552, 58, 843, 460, 20, 919, 145, 871, 341, 359, 208, 648, 504, 78, 132, 781, 395, 426, 587, 651, 747, 186, 594, 867, 652, 278, 160, 847, 961, 696, 548, 854, 345, 21, 176, 84, 175, 589, 948, 505, 82, 184, 702, 315, 739, 959, 826, 357, 453, 422, 327, 282, 399, 214, 44, 717, 257, 665, 688, 141, 213, 199, 626, 939, 217, 774, 518, 533, 743, 333, 417, 416, 61, 478, 350, 936, 677, 957, 318, 615, 442, 281, 293, 869, 911, 343, 982, 674, 321, 226, 25, 887, 180, 45, 265, 125, 903, 205, 410, 479, 944, 437, 221, 427, 731, 454, 215, 166, 8, 355, 386, 334, 845, 149, 949, 3, 729, 951, 775, 490, 449, 953, 971, 372, 211, 673, 251, 942, 632, 664, 704, 452, 187, 935, 647, 684, 393, 612, 572, 216, 158, 934, 927, 999, 354, 353, 290, 57, 155, 519, 725, 136, 501, 801, 481, 348, 733, 210, 884, 324, 500, 55, 488, 938, 794, 538, 804, 502, 253, 261, 870, 806, 174, 380, 131, 545, 761, 798, 200, 705, 536, 620, 346, 259, 232, 269, 309, 952, 542, 311, 133, 436, 511, 197, 695, 272, 807, 602, 351, 598, 711, 4, 150, 119, 312, 451, 313, 34, 824, 165, 879, 195, 68, 603, 596, 829, 297, 447, 685, 126, 863, 709, 898, 568, 865, 666, 465, 636, 780, 996, 181, 882, 256, 99, 51, 206, 376))\n"
     ]
    },
    {
     "data": {
      "text/plain": [
       "\u001b[36minvertedIndex\u001b[39m: \u001b[32mRDD\u001b[39m[(\u001b[32mString\u001b[39m, \u001b[32mIterable\u001b[39m[\u001b[32mInt\u001b[39m])] = ShuffledRDD[38] at groupByKey at cmd11.sc:55"
      ]
     },
     "execution_count": 14,
     "metadata": {},
     "output_type": "execute_result"
    }
   ],
   "source": [
    "// Code used to test your implementation.\n",
    "// Create the inverted index of the movies.\n",
    "val invertedIndex = createInvertedIndex(rddMovies)\n",
    "\n",
    "// Show how the inverted index looks like.\n",
    "invertedIndex.take(3).foreach(x => println(x._1 + \": \" + x._2.mkString(\", \")))\n",
    "\n",
    "// Show the top 10 most used words.\n",
    "topN(invertedIndex, 10)"
   ]
  },
  {
   "cell_type": "markdown",
   "metadata": {},
   "source": [
    "## Part 3 - Dataframe and SparkSQL\n",
    "\n",
    "For all of the following exercices, write your queries in two different ways: \n",
    "\n",
    "* using the sql literal \n",
    "* using DataFrame API (select, where, etc.)"
   ]
  },
  {
   "cell_type": "markdown",
   "metadata": {},
   "source": [
    "### Exercice 1 - Use the moviesDF DataFrame\n",
    "\n",
    "* Use the dataframe `moviesDF` already created when loading the data \n",
    "* Print the schema of moviesDF\n",
    "* Show the first 10 lines of the moviesDF as a table"
   ]
  },
  {
   "cell_type": "code",
   "execution_count": 15,
   "metadata": {},
   "outputs": [
    {
     "name": "stdout",
     "output_type": "stream",
     "text": [
      "root\n",
      " |-- Rank: integer (nullable = true)\n",
      " |-- Title: string (nullable = true)\n",
      " |-- Genre: string (nullable = true)\n",
      " |-- Description: string (nullable = true)\n",
      " |-- Director: string (nullable = true)\n",
      " |-- Actors: string (nullable = true)\n",
      " |-- Year: integer (nullable = true)\n",
      " |-- Runtime (Minutes): integer (nullable = true)\n",
      " |-- Rating: double (nullable = true)\n",
      " |-- Votes: integer (nullable = true)\n",
      " |-- Revenue (Millions): double (nullable = true)\n",
      " |-- Metascore: integer (nullable = true)\n",
      "\n"
     ]
    },
    {
     "data": {
      "text/html": [
       "<div>\n",
       "  <span style=\"float: left;\">show at cmd14.sc:2</span>\n",
       "</div>\n"
      ]
     },
     "metadata": {},
     "output_type": "display_data"
    },
    {
     "data": {
      "text/html": [
       "<div class=\"progress\">\n",
       "  <div class=\"progress-bar\" role=\"progressbar\" style=\"background-color: blue; width: 100%; word-wrap: normal; white-space: nowrap; text-align: center; color: white\" aria-valuenow=\"100\" aria-valuemin=\"0\" aria-valuemax=\"100\">\n",
       "    1 / 1\n",
       "  </div>\n",
       "  <div class=\"progress-bar\" role=\"progressbar\" style=\"background-color: red; width: 0%\" aria-valuenow=\"0\" aria-valuemin=\"0\" aria-valuemax=\"100\"></div>\n",
       "</div>\n"
      ]
     },
     "metadata": {},
     "output_type": "display_data"
    },
    {
     "name": "stdout",
     "output_type": "stream",
     "text": [
      "+----+--------------------+--------------------+--------------------+--------------------+--------------------+----+-----------------+------+------+------------------+---------+\n",
      "|Rank|               Title|               Genre|         Description|            Director|              Actors|Year|Runtime (Minutes)|Rating| Votes|Revenue (Millions)|Metascore|\n",
      "+----+--------------------+--------------------+--------------------+--------------------+--------------------+----+-----------------+------+------+------------------+---------+\n",
      "|   1|Guardians of the ...|Action,Adventure,...|A group of interg...|          James Gunn|Chris Pratt, Vin ...|2014|              121|   8.1|757074|            333.13|       76|\n",
      "|   2|          Prometheus|Adventure,Mystery...|Following clues t...|        Ridley Scott|Noomi Rapace, Log...|2012|              124|   7.0|485820|            126.46|       65|\n",
      "|   3|               Split|     Horror,Thriller|Three girls are k...|  M. Night Shyamalan|James McAvoy, Any...|2016|              117|   7.3|157606|            138.12|       62|\n",
      "|   4|                Sing|Animation,Comedy,...|In a city of huma...|Christophe Lourdelet|Matthew McConaugh...|2016|              108|   7.2| 60545|            270.32|       59|\n",
      "|   5|       Suicide Squad|Action,Adventure,...|A secret governme...|          David Ayer|Will Smith, Jared...|2016|              123|   6.2|393727|            325.02|       40|\n",
      "|   6|      The Great Wall|Action,Adventure,...|European mercenar...|         Yimou Zhang|Matt Damon, Tian ...|2016|              103|   6.1| 56036|             45.13|       42|\n",
      "|   7|          La La Land|  Comedy,Drama,Music|A jazz pianist fa...|     Damien Chazelle|Ryan Gosling, Emm...|2016|              128|   8.3|258682|            151.06|       93|\n",
      "|   8|            Mindhorn|              Comedy|A has-been actor ...|          Sean Foley|Essie Davis, Andr...|2016|               89|   6.4|  2490|              null|       71|\n",
      "|   9|  The Lost City of Z|Action,Adventure,...|A true-life drama...|          James Gray|Charlie Hunnam, R...|2016|              141|   7.1|  7188|              8.01|       78|\n",
      "|  10|          Passengers|Adventure,Drama,R...|A spacecraft trav...|       Morten Tyldum|Jennifer Lawrence...|2016|              116|   7.0|192177|            100.01|       41|\n",
      "+----+--------------------+--------------------+--------------------+--------------------+--------------------+----+-----------------+------+------+------------------+---------+\n",
      "only showing top 10 rows\n",
      "\n"
     ]
    },
    {
     "data": {
      "text/html": [
       "<div>\n",
       "  <span style=\"float: left;\">show at cmd14.sc:4</span>\n",
       "</div>\n"
      ]
     },
     "metadata": {},
     "output_type": "display_data"
    },
    {
     "data": {
      "text/html": [
       "<div class=\"progress\">\n",
       "  <div class=\"progress-bar\" role=\"progressbar\" style=\"background-color: blue; width: 100%; word-wrap: normal; white-space: nowrap; text-align: center; color: white\" aria-valuenow=\"100\" aria-valuemin=\"0\" aria-valuemax=\"100\">\n",
       "    1 / 1\n",
       "  </div>\n",
       "  <div class=\"progress-bar\" role=\"progressbar\" style=\"background-color: red; width: 0%\" aria-valuenow=\"0\" aria-valuemin=\"0\" aria-valuemax=\"100\"></div>\n",
       "</div>\n"
      ]
     },
     "metadata": {},
     "output_type": "display_data"
    },
    {
     "data": {
      "text/html": [
       "<div>\n",
       "  <span style=\"float: left;\">show at cmd14.sc:4</span>\n",
       "</div>\n"
      ]
     },
     "metadata": {},
     "output_type": "display_data"
    },
    {
     "data": {
      "text/html": [
       "<div class=\"progress\">\n",
       "  <div class=\"progress-bar\" role=\"progressbar\" style=\"background-color: blue; width: 100%; word-wrap: normal; white-space: nowrap; text-align: center; color: white\" aria-valuenow=\"100\" aria-valuemin=\"0\" aria-valuemax=\"100\">\n",
       "    1 / 1\n",
       "  </div>\n",
       "  <div class=\"progress-bar\" role=\"progressbar\" style=\"background-color: red; width: 0%\" aria-valuenow=\"0\" aria-valuemin=\"0\" aria-valuemax=\"100\"></div>\n",
       "</div>\n"
      ]
     },
     "metadata": {},
     "output_type": "display_data"
    },
    {
     "name": "stdout",
     "output_type": "stream",
     "text": [
      "+----+--------------------+--------------------+--------------------+--------------------+--------------------+----+-----------------+------+------+------------------+---------+\n",
      "|Rank|               Title|               Genre|         Description|            Director|              Actors|Year|Runtime (Minutes)|Rating| Votes|Revenue (Millions)|Metascore|\n",
      "+----+--------------------+--------------------+--------------------+--------------------+--------------------+----+-----------------+------+------+------------------+---------+\n",
      "|   1|Guardians of the ...|Action,Adventure,...|A group of interg...|          James Gunn|Chris Pratt, Vin ...|2014|              121|   8.1|757074|            333.13|       76|\n",
      "|   2|          Prometheus|Adventure,Mystery...|Following clues t...|        Ridley Scott|Noomi Rapace, Log...|2012|              124|   7.0|485820|            126.46|       65|\n",
      "|   3|               Split|     Horror,Thriller|Three girls are k...|  M. Night Shyamalan|James McAvoy, Any...|2016|              117|   7.3|157606|            138.12|       62|\n",
      "|   4|                Sing|Animation,Comedy,...|In a city of huma...|Christophe Lourdelet|Matthew McConaugh...|2016|              108|   7.2| 60545|            270.32|       59|\n",
      "|   5|       Suicide Squad|Action,Adventure,...|A secret governme...|          David Ayer|Will Smith, Jared...|2016|              123|   6.2|393727|            325.02|       40|\n",
      "|   6|      The Great Wall|Action,Adventure,...|European mercenar...|         Yimou Zhang|Matt Damon, Tian ...|2016|              103|   6.1| 56036|             45.13|       42|\n",
      "|   7|          La La Land|  Comedy,Drama,Music|A jazz pianist fa...|     Damien Chazelle|Ryan Gosling, Emm...|2016|              128|   8.3|258682|            151.06|       93|\n",
      "|   8|            Mindhorn|              Comedy|A has-been actor ...|          Sean Foley|Essie Davis, Andr...|2016|               89|   6.4|  2490|              null|       71|\n",
      "|   9|  The Lost City of Z|Action,Adventure,...|A true-life drama...|          James Gray|Charlie Hunnam, R...|2016|              141|   7.1|  7188|              8.01|       78|\n",
      "|  10|          Passengers|Adventure,Drama,R...|A spacecraft trav...|       Morten Tyldum|Jennifer Lawrence...|2016|              116|   7.0|192177|            100.01|       41|\n",
      "+----+--------------------+--------------------+--------------------+--------------------+--------------------+----+-----------------+------+------+------------------+---------+\n",
      "\n"
     ]
    }
   ],
   "source": [
    "moviesDF.printSchema()\n",
    "moviesDF.show(10)\n",
    "moviesDF.createOrReplaceTempView(\"movies\")\n",
    "spark.sql(\"SELECT * FROM movies LIMIT 10\").show"
   ]
  },
  {
   "cell_type": "markdown",
   "metadata": {},
   "source": [
    "#### Exercice 2 - Get the movies (id, title, votes, director) whose title contains \"City\" \n",
    "\n",
    "Apply two different ways: \n",
    "\n",
    "* use the sql literal \n",
    "* use DataFrame API (select, where, etc.)\n"
   ]
  },
  {
   "cell_type": "code",
   "execution_count": 64,
   "metadata": {},
   "outputs": [
    {
     "data": {
      "text/html": [
       "<div>\n",
       "  <span style=\"float: left;\">show at cmd63.sc:1</span>\n",
       "</div>\n"
      ]
     },
     "metadata": {},
     "output_type": "display_data"
    },
    {
     "data": {
      "text/html": [
       "<div class=\"progress\">\n",
       "  <div class=\"progress-bar\" role=\"progressbar\" style=\"background-color: blue; width: 100%; word-wrap: normal; white-space: nowrap; text-align: center; color: white\" aria-valuenow=\"100\" aria-valuemin=\"0\" aria-valuemax=\"100\">\n",
       "    1 / 1\n",
       "  </div>\n",
       "  <div class=\"progress-bar\" role=\"progressbar\" style=\"background-color: red; width: 0%\" aria-valuenow=\"0\" aria-valuemin=\"0\" aria-valuemax=\"100\"></div>\n",
       "</div>\n"
      ]
     },
     "metadata": {},
     "output_type": "display_data"
    },
    {
     "name": "stdout",
     "output_type": "stream",
     "text": [
      "+--------------------+------+--------------------+\n",
      "|               title| votes|            director|\n",
      "+--------------------+------+--------------------+\n",
      "|  The Lost City of Z|  7188|          James Gray|\n",
      "|Sin City: A Dame ...|122185|        Frank Miller|\n",
      "| City of Tiny Lights|   291|         Pete Travis|\n",
      "|The Mortal Instru...|112313|        Harald Zwart|\n",
      "|    Sex and the City|102547|Michael Patrick King|\n",
      "|  Sex and the City 2| 62403|Michael Patrick King|\n",
      "+--------------------+------+--------------------+\n",
      "\n"
     ]
    },
    {
     "data": {
      "text/html": [
       "<div>\n",
       "  <span style=\"float: left;\">show at cmd63.sc:4</span>\n",
       "</div>\n"
      ]
     },
     "metadata": {},
     "output_type": "display_data"
    },
    {
     "data": {
      "text/html": [
       "<div class=\"progress\">\n",
       "  <div class=\"progress-bar\" role=\"progressbar\" style=\"background-color: blue; width: 100%; word-wrap: normal; white-space: nowrap; text-align: center; color: white\" aria-valuenow=\"100\" aria-valuemin=\"0\" aria-valuemax=\"100\">\n",
       "    1 / 1\n",
       "  </div>\n",
       "  <div class=\"progress-bar\" role=\"progressbar\" style=\"background-color: red; width: 0%\" aria-valuenow=\"0\" aria-valuemin=\"0\" aria-valuemax=\"100\"></div>\n",
       "</div>\n"
      ]
     },
     "metadata": {},
     "output_type": "display_data"
    },
    {
     "name": "stdout",
     "output_type": "stream",
     "text": [
      "+--------------------+------+--------------------+\n",
      "|               title| votes|            director|\n",
      "+--------------------+------+--------------------+\n",
      "|  The Lost City of Z|  7188|          James Gray|\n",
      "|Sin City: A Dame ...|122185|        Frank Miller|\n",
      "| City of Tiny Lights|   291|         Pete Travis|\n",
      "|The Mortal Instru...|112313|        Harald Zwart|\n",
      "|    Sex and the City|102547|Michael Patrick King|\n",
      "|  Sex and the City 2| 62403|Michael Patrick King|\n",
      "+--------------------+------+--------------------+\n",
      "\n"
     ]
    }
   ],
   "source": [
    "spark.sql(\"SELECT title, votes, director FROM movies WHERE title LIKE '%City%'\").show\n",
    "\n",
    "moviesDF.select(\"title\", \"votes\", \"director\")\n",
    "    .where(\"title LIKE '%City%'\")\n",
    "    .show()"
   ]
  },
  {
   "cell_type": "markdown",
   "metadata": {},
   "source": [
    "### Exercice 3 - Get the number of movies which have a number of votes between 500 and 2000 (inclusive range)"
   ]
  },
  {
   "cell_type": "code",
   "execution_count": 70,
   "metadata": {},
   "outputs": [
    {
     "data": {
      "text/html": [
       "<div>\n",
       "  <span style=\"float: left;\">show at cmd69.sc:1</span>\n",
       "</div>\n"
      ]
     },
     "metadata": {},
     "output_type": "display_data"
    },
    {
     "data": {
      "text/html": [
       "<div class=\"progress\">\n",
       "  <div class=\"progress-bar\" role=\"progressbar\" style=\"background-color: blue; width: 100%; word-wrap: normal; white-space: nowrap; text-align: center; color: white\" aria-valuenow=\"100\" aria-valuemin=\"0\" aria-valuemax=\"100\">\n",
       "    1 / 1\n",
       "  </div>\n",
       "  <div class=\"progress-bar\" role=\"progressbar\" style=\"background-color: red; width: 0%\" aria-valuenow=\"0\" aria-valuemin=\"0\" aria-valuemax=\"100\"></div>\n",
       "</div>\n"
      ]
     },
     "metadata": {},
     "output_type": "display_data"
    },
    {
     "data": {
      "text/html": [
       "<div>\n",
       "  <span style=\"float: left;\">show at cmd69.sc:1</span>\n",
       "</div>\n"
      ]
     },
     "metadata": {},
     "output_type": "display_data"
    },
    {
     "data": {
      "text/html": [
       "<div class=\"progress\">\n",
       "  <div class=\"progress-bar\" role=\"progressbar\" style=\"background-color: blue; width: 100%; word-wrap: normal; white-space: nowrap; text-align: center; color: white\" aria-valuenow=\"100\" aria-valuemin=\"0\" aria-valuemax=\"100\">\n",
       "    1 / 1\n",
       "  </div>\n",
       "  <div class=\"progress-bar\" role=\"progressbar\" style=\"background-color: red; width: 0%\" aria-valuenow=\"0\" aria-valuemin=\"0\" aria-valuemax=\"100\"></div>\n",
       "</div>\n"
      ]
     },
     "metadata": {},
     "output_type": "display_data"
    },
    {
     "name": "stdout",
     "output_type": "stream",
     "text": [
      "+--------+\n",
      "|count(1)|\n",
      "+--------+\n",
      "|      34|\n",
      "+--------+\n",
      "\n"
     ]
    },
    {
     "data": {
      "text/html": [
       "<div>\n",
       "  <span style=\"float: left;\">count at cmd69.sc:3</span>\n",
       "</div>\n"
      ]
     },
     "metadata": {},
     "output_type": "display_data"
    },
    {
     "data": {
      "text/html": [
       "<div class=\"progress\">\n",
       "  <div class=\"progress-bar\" role=\"progressbar\" style=\"background-color: blue; width: 100%; word-wrap: normal; white-space: nowrap; text-align: center; color: white\" aria-valuenow=\"100\" aria-valuemin=\"0\" aria-valuemax=\"100\">\n",
       "    1 / 1\n",
       "  </div>\n",
       "  <div class=\"progress-bar\" role=\"progressbar\" style=\"background-color: red; width: 0%\" aria-valuenow=\"0\" aria-valuemin=\"0\" aria-valuemax=\"100\"></div>\n",
       "</div>\n"
      ]
     },
     "metadata": {},
     "output_type": "display_data"
    },
    {
     "data": {
      "text/html": [
       "<div>\n",
       "  <span style=\"float: left;\">count at cmd69.sc:3</span>\n",
       "</div>\n"
      ]
     },
     "metadata": {},
     "output_type": "display_data"
    },
    {
     "data": {
      "text/html": [
       "<div class=\"progress\">\n",
       "  <div class=\"progress-bar\" role=\"progressbar\" style=\"background-color: blue; width: 100%; word-wrap: normal; white-space: nowrap; text-align: center; color: white\" aria-valuenow=\"100\" aria-valuemin=\"0\" aria-valuemax=\"100\">\n",
       "    1 / 1\n",
       "  </div>\n",
       "  <div class=\"progress-bar\" role=\"progressbar\" style=\"background-color: red; width: 0%\" aria-valuenow=\"0\" aria-valuemin=\"0\" aria-valuemax=\"100\"></div>\n",
       "</div>\n"
      ]
     },
     "metadata": {},
     "output_type": "display_data"
    },
    {
     "data": {
      "text/plain": [
       "\u001b[36mres69_1\u001b[39m: \u001b[32mLong\u001b[39m = \u001b[32m34L\u001b[39m"
      ]
     },
     "execution_count": 70,
     "metadata": {},
     "output_type": "execute_result"
    }
   ],
   "source": [
    "spark.sql(\"SELECT COUNT(*) FROM movies WHERE votes BETWEEN '500' AND '2000'\").show\n",
    "\n",
    "moviesDF.filter($\"votes\" >= 500 && $\"votes\" <= 2000).count()"
   ]
  },
  {
   "cell_type": "markdown",
   "metadata": {},
   "source": [
    "# Exercice 4 - Get the minimum, maximum and average rating of films per director. Sort the results by minimum rating.  "
   ]
  },
  {
   "cell_type": "code",
   "execution_count": 72,
   "metadata": {},
   "outputs": [
    {
     "data": {
      "text/html": [
       "<div>\n",
       "  <span style=\"float: left;\">show at cmd71.sc:1</span>\n",
       "</div>\n"
      ]
     },
     "metadata": {},
     "output_type": "display_data"
    },
    {
     "data": {
      "text/html": [
       "<div class=\"progress\">\n",
       "  <div class=\"progress-bar\" role=\"progressbar\" style=\"background-color: blue; width: 100%; word-wrap: normal; white-space: nowrap; text-align: center; color: white\" aria-valuenow=\"100\" aria-valuemin=\"0\" aria-valuemax=\"100\">\n",
       "    1 / 1\n",
       "  </div>\n",
       "  <div class=\"progress-bar\" role=\"progressbar\" style=\"background-color: red; width: 0%\" aria-valuenow=\"0\" aria-valuemin=\"0\" aria-valuemax=\"100\"></div>\n",
       "</div>\n"
      ]
     },
     "metadata": {},
     "output_type": "display_data"
    },
    {
     "data": {
      "text/html": [
       "<div>\n",
       "  <span style=\"float: left;\">show at cmd71.sc:1</span>\n",
       "</div>\n"
      ]
     },
     "metadata": {},
     "output_type": "display_data"
    },
    {
     "data": {
      "text/html": [
       "<div class=\"progress\">\n",
       "  <div class=\"progress-bar\" role=\"progressbar\" style=\"background-color: blue; width: 100%; word-wrap: normal; white-space: nowrap; text-align: center; color: white\" aria-valuenow=\"100\" aria-valuemin=\"0\" aria-valuemax=\"100\">\n",
       "    200 / 200\n",
       "  </div>\n",
       "  <div class=\"progress-bar\" role=\"progressbar\" style=\"background-color: red; width: 0%\" aria-valuenow=\"0\" aria-valuemin=\"0\" aria-valuemax=\"100\"></div>\n",
       "</div>\n"
      ]
     },
     "metadata": {},
     "output_type": "display_data"
    },
    {
     "name": "stdout",
     "output_type": "stream",
     "text": [
      "+--------------------+---+---+-----------------+\n",
      "|            director|min|max|              avg|\n",
      "+--------------------+---+---+-----------------+\n",
      "|     Jason Friedberg|1.9|1.9|              1.9|\n",
      "|       Shawn Burkett|2.7|2.7|              2.7|\n",
      "|          James Wong|2.7|2.7|              2.7|\n",
      "|   Jonathan Holbrook|3.2|3.2|              3.2|\n",
      "|       Femi Oyeniran|3.5|3.5|              3.5|\n",
      "|      Micheal Bafaro|3.5|3.5|              3.5|\n",
      "|           Sean Penn|3.7|8.1|              5.9|\n",
      "|     Jeffrey G. Hunt|3.7|3.7|              3.7|\n",
      "|      Rolfe Kanefsky|3.9|3.9|              3.9|\n",
      "|        George Nolfi|3.9|7.1|              5.5|\n",
      "|         D.J. Caruso|3.9|6.9|            5.875|\n",
      "|         Joey Curtis|4.0|4.0|              4.0|\n",
      "|  Sam Taylor-Johnson|4.1|4.1|              4.1|\n",
      "|  M. Night Shyamalan|4.2|7.3|5.533333333333332|\n",
      "|    Gee Malik Linton|4.2|4.2|              4.2|\n",
      "|     Elizabeth Banks|4.3|6.5|              5.4|\n",
      "|         Kevin Smith|4.3|6.6|5.433333333333334|\n",
      "|          Josh Trank|4.3|4.3|              4.3|\n",
      "|Michael Patrick King|4.3|5.5|              4.9|\n",
      "|             Tom Six|4.4|4.4|              4.4|\n",
      "+--------------------+---+---+-----------------+\n",
      "only showing top 20 rows\n",
      "\n"
     ]
    },
    {
     "data": {
      "text/html": [
       "<div>\n",
       "  <span style=\"float: left;\">show at cmd71.sc:6</span>\n",
       "</div>\n"
      ]
     },
     "metadata": {},
     "output_type": "display_data"
    },
    {
     "data": {
      "text/html": [
       "<div class=\"progress\">\n",
       "  <div class=\"progress-bar\" role=\"progressbar\" style=\"background-color: blue; width: 100%; word-wrap: normal; white-space: nowrap; text-align: center; color: white\" aria-valuenow=\"100\" aria-valuemin=\"0\" aria-valuemax=\"100\">\n",
       "    1 / 1\n",
       "  </div>\n",
       "  <div class=\"progress-bar\" role=\"progressbar\" style=\"background-color: red; width: 0%\" aria-valuenow=\"0\" aria-valuemin=\"0\" aria-valuemax=\"100\"></div>\n",
       "</div>\n"
      ]
     },
     "metadata": {},
     "output_type": "display_data"
    },
    {
     "data": {
      "text/html": [
       "<div>\n",
       "  <span style=\"float: left;\">show at cmd71.sc:6</span>\n",
       "</div>\n"
      ]
     },
     "metadata": {},
     "output_type": "display_data"
    },
    {
     "data": {
      "text/html": [
       "<div class=\"progress\">\n",
       "  <div class=\"progress-bar\" role=\"progressbar\" style=\"background-color: blue; width: 100%; word-wrap: normal; white-space: nowrap; text-align: center; color: white\" aria-valuenow=\"100\" aria-valuemin=\"0\" aria-valuemax=\"100\">\n",
       "    200 / 200\n",
       "  </div>\n",
       "  <div class=\"progress-bar\" role=\"progressbar\" style=\"background-color: red; width: 0%\" aria-valuenow=\"0\" aria-valuemin=\"0\" aria-valuemax=\"100\"></div>\n",
       "</div>\n"
      ]
     },
     "metadata": {},
     "output_type": "display_data"
    },
    {
     "name": "stdout",
     "output_type": "stream",
     "text": [
      "+--------------------+-----------+-----------+-----------------+\n",
      "|            director|min(rating)|max(rating)|      avg(rating)|\n",
      "+--------------------+-----------+-----------+-----------------+\n",
      "|     Jason Friedberg|        1.9|        1.9|              1.9|\n",
      "|       Shawn Burkett|        2.7|        2.7|              2.7|\n",
      "|          James Wong|        2.7|        2.7|              2.7|\n",
      "|   Jonathan Holbrook|        3.2|        3.2|              3.2|\n",
      "|       Femi Oyeniran|        3.5|        3.5|              3.5|\n",
      "|      Micheal Bafaro|        3.5|        3.5|              3.5|\n",
      "|           Sean Penn|        3.7|        8.1|              5.9|\n",
      "|     Jeffrey G. Hunt|        3.7|        3.7|              3.7|\n",
      "|      Rolfe Kanefsky|        3.9|        3.9|              3.9|\n",
      "|        George Nolfi|        3.9|        7.1|              5.5|\n",
      "|         D.J. Caruso|        3.9|        6.9|            5.875|\n",
      "|         Joey Curtis|        4.0|        4.0|              4.0|\n",
      "|  Sam Taylor-Johnson|        4.1|        4.1|              4.1|\n",
      "|  M. Night Shyamalan|        4.2|        7.3|5.533333333333332|\n",
      "|    Gee Malik Linton|        4.2|        4.2|              4.2|\n",
      "|     Elizabeth Banks|        4.3|        6.5|              5.4|\n",
      "|         Kevin Smith|        4.3|        6.6|5.433333333333334|\n",
      "|          Josh Trank|        4.3|        4.3|              4.3|\n",
      "|Michael Patrick King|        4.3|        5.5|              4.9|\n",
      "|             Tom Six|        4.4|        4.4|              4.4|\n",
      "+--------------------+-----------+-----------+-----------------+\n",
      "only showing top 20 rows\n",
      "\n"
     ]
    }
   ],
   "source": [
    "spark.sql(\"SELECT director, MIN(rating) as min, MAX(rating) as max, AVG(rating) as avg FROM movies GROUP BY director ORDER BY min \").show\n",
    "\n",
    "moviesDF\n",
    "    .groupBy(\"director\")\n",
    "    .agg(min(\"rating\"), max(\"rating\"), avg(\"rating\"))\n",
    "    .orderBy($\"min(rating)\".asc)\n",
    "    .show()"
   ]
  },
  {
   "cell_type": "markdown",
   "metadata": {},
   "source": [
    "### Exercice 5 - Find the title of the movie(s) having the minimum rating for each year. Show the title, year and the rating information in the result, order by increasing rating.\n",
    "\n",
    "**Example output**\n",
    "\n",
    "```plain\n",
    "+--------------------+----+------+\n",
    "|               title|year|rating|\n",
    "+--------------------+----+------+\n",
    "|      Disaster Movie|2008|   1.9|\n",
    "|Don't Fuck in the...|2016|   2.7|\n",
    "|Dragonball Evolution|2009|   2.7|\n",
    "...\n",
    "```"
   ]
  },
  {
   "cell_type": "code",
   "execution_count": 83,
   "metadata": {},
   "outputs": [
    {
     "data": {
      "text/html": [
       "<div>\n",
       "  <span style=\"float: left;\">run at ThreadPoolExecutor.java:1149</span>\n",
       "</div>\n"
      ]
     },
     "metadata": {},
     "output_type": "display_data"
    },
    {
     "data": {
      "text/html": [
       "<div class=\"progress\">\n",
       "  <div class=\"progress-bar\" role=\"progressbar\" style=\"background-color: blue; width: 100%; word-wrap: normal; white-space: nowrap; text-align: center; color: white\" aria-valuenow=\"100\" aria-valuemin=\"0\" aria-valuemax=\"100\">\n",
       "    1 / 1\n",
       "  </div>\n",
       "  <div class=\"progress-bar\" role=\"progressbar\" style=\"background-color: red; width: 0%\" aria-valuenow=\"0\" aria-valuemin=\"0\" aria-valuemax=\"100\"></div>\n",
       "</div>\n"
      ]
     },
     "metadata": {},
     "output_type": "display_data"
    },
    {
     "data": {
      "text/html": [
       "<div>\n",
       "  <span style=\"float: left;\">run at ThreadPoolExecutor.java:1149</span>\n",
       "</div>\n"
      ]
     },
     "metadata": {},
     "output_type": "display_data"
    },
    {
     "data": {
      "text/html": [
       "<div class=\"progress\">\n",
       "  <div class=\"progress-bar\" role=\"progressbar\" style=\"background-color: blue; width: 100%; word-wrap: normal; white-space: nowrap; text-align: center; color: white\" aria-valuenow=\"100\" aria-valuemin=\"0\" aria-valuemax=\"100\">\n",
       "    200 / 200\n",
       "  </div>\n",
       "  <div class=\"progress-bar\" role=\"progressbar\" style=\"background-color: red; width: 0%\" aria-valuenow=\"0\" aria-valuemin=\"0\" aria-valuemax=\"100\"></div>\n",
       "</div>\n"
      ]
     },
     "metadata": {},
     "output_type": "display_data"
    },
    {
     "data": {
      "text/html": [
       "<div>\n",
       "  <span style=\"float: left;\">show at cmd82.sc:1</span>\n",
       "</div>\n"
      ]
     },
     "metadata": {},
     "output_type": "display_data"
    },
    {
     "data": {
      "text/html": [
       "<div class=\"progress\">\n",
       "  <div class=\"progress-bar\" role=\"progressbar\" style=\"background-color: blue; width: 100%; word-wrap: normal; white-space: nowrap; text-align: center; color: white\" aria-valuenow=\"100\" aria-valuemin=\"0\" aria-valuemax=\"100\">\n",
       "    1 / 1\n",
       "  </div>\n",
       "  <div class=\"progress-bar\" role=\"progressbar\" style=\"background-color: red; width: 0%\" aria-valuenow=\"0\" aria-valuemin=\"0\" aria-valuemax=\"100\"></div>\n",
       "</div>\n"
      ]
     },
     "metadata": {},
     "output_type": "display_data"
    },
    {
     "name": "stdout",
     "output_type": "stream",
     "text": [
      "+--------------------+----+---+\n",
      "|               title|year|min|\n",
      "+--------------------+----+---+\n",
      "|      Disaster Movie|2008|1.9|\n",
      "|Don't Fuck in the...|2016|2.7|\n",
      "|Dragonball Evolution|2009|2.7|\n",
      "|             Wrecker|2015|3.5|\n",
      "|  The Last Airbender|2010|4.2|\n",
      "|            Movie 43|2013|4.3|\n",
      "|Aliens vs Predato...|2007|4.7|\n",
      "|    Megan Is Missing|2011|4.9|\n",
      "|The Twilight Saga...|2011|4.9|\n",
      "|            Sex Tape|2014|5.1|\n",
      "|     Spring Breakers|2012|5.3|\n",
      "|   Lady in the Water|2006|5.6|\n",
      "|   Snakes on a Plane|2006|5.6|\n",
      "+--------------------+----+---+\n",
      "\n"
     ]
    },
    {
     "data": {
      "text/html": [
       "<div>\n",
       "  <span style=\"float: left;\">run at ThreadPoolExecutor.java:1149</span>\n",
       "</div>\n"
      ]
     },
     "metadata": {},
     "output_type": "display_data"
    },
    {
     "data": {
      "text/html": [
       "<div class=\"progress\">\n",
       "  <div class=\"progress-bar\" role=\"progressbar\" style=\"background-color: blue; width: 100%; word-wrap: normal; white-space: nowrap; text-align: center; color: white\" aria-valuenow=\"100\" aria-valuemin=\"0\" aria-valuemax=\"100\">\n",
       "    1 / 1\n",
       "  </div>\n",
       "  <div class=\"progress-bar\" role=\"progressbar\" style=\"background-color: red; width: 0%\" aria-valuenow=\"0\" aria-valuemin=\"0\" aria-valuemax=\"100\"></div>\n",
       "</div>\n"
      ]
     },
     "metadata": {},
     "output_type": "display_data"
    },
    {
     "data": {
      "text/html": [
       "<div>\n",
       "  <span style=\"float: left;\">run at ThreadPoolExecutor.java:1149</span>\n",
       "</div>\n"
      ]
     },
     "metadata": {},
     "output_type": "display_data"
    },
    {
     "data": {
      "text/html": [
       "<div class=\"progress\">\n",
       "  <div class=\"progress-bar\" role=\"progressbar\" style=\"background-color: blue; width: 100%; word-wrap: normal; white-space: nowrap; text-align: center; color: white\" aria-valuenow=\"100\" aria-valuemin=\"0\" aria-valuemax=\"100\">\n",
       "    200 / 200\n",
       "  </div>\n",
       "  <div class=\"progress-bar\" role=\"progressbar\" style=\"background-color: red; width: 0%\" aria-valuenow=\"0\" aria-valuemin=\"0\" aria-valuemax=\"100\"></div>\n",
       "</div>\n"
      ]
     },
     "metadata": {},
     "output_type": "display_data"
    },
    {
     "data": {
      "text/html": [
       "<div>\n",
       "  <span style=\"float: left;\">show at cmd82.sc:20</span>\n",
       "</div>\n"
      ]
     },
     "metadata": {},
     "output_type": "display_data"
    },
    {
     "data": {
      "text/html": [
       "<div class=\"progress\">\n",
       "  <div class=\"progress-bar\" role=\"progressbar\" style=\"background-color: blue; width: 100%; word-wrap: normal; white-space: nowrap; text-align: center; color: white\" aria-valuenow=\"100\" aria-valuemin=\"0\" aria-valuemax=\"100\">\n",
       "    1 / 1\n",
       "  </div>\n",
       "  <div class=\"progress-bar\" role=\"progressbar\" style=\"background-color: red; width: 0%\" aria-valuenow=\"0\" aria-valuemin=\"0\" aria-valuemax=\"100\"></div>\n",
       "</div>\n"
      ]
     },
     "metadata": {},
     "output_type": "display_data"
    },
    {
     "name": "stdout",
     "output_type": "stream",
     "text": [
      "+----+-----------+--------------------+------+\n",
      "|year|min(rating)|               title|rating|\n",
      "+----+-----------+--------------------+------+\n",
      "|2008|        1.9|      Disaster Movie|   1.9|\n",
      "|2016|        2.7|Don't Fuck in the...|   2.7|\n",
      "|2009|        2.7|Dragonball Evolution|   2.7|\n",
      "|2015|        3.5|             Wrecker|   3.5|\n",
      "|2010|        4.2|  The Last Airbender|   4.2|\n",
      "|2013|        4.3|            Movie 43|   4.3|\n",
      "|2007|        4.7|Aliens vs Predato...|   4.7|\n",
      "|2011|        4.9|    Megan Is Missing|   4.9|\n",
      "|2011|        4.9|The Twilight Saga...|   4.9|\n",
      "|2014|        5.1|            Sex Tape|   5.1|\n",
      "|2012|        5.3|     Spring Breakers|   5.3|\n",
      "|2006|        5.6|   Lady in the Water|   5.6|\n",
      "|2006|        5.6|   Snakes on a Plane|   5.6|\n",
      "+----+-----------+--------------------+------+\n",
      "\n"
     ]
    },
    {
     "data": {
      "text/plain": [
       "\u001b[36mtmpDF\u001b[39m: \u001b[32mDataFrame\u001b[39m = [title: string, year: int ... 1 more field]"
      ]
     },
     "execution_count": 83,
     "metadata": {},
     "output_type": "execute_result"
    }
   ],
   "source": [
    "spark.sql(\"\"\"\n",
    "SELECT movies.title, movies.year, minRatingsPerYear.min\n",
    "FROM movies \n",
    "    INNER JOIN(\n",
    "        SELECT year, MIN(rating) as min\n",
    "        FROM movies\n",
    "        GROUP BY year\n",
    "    )minRatingsPerYear\n",
    "ON minRatingsPerYear.year = movies.year\n",
    "WHERE movies.rating = minRatingsPerYear.min\n",
    "ORDER BY min\"\"\").show()\n",
    "\n",
    "val tmpDF = moviesDF.select(\"title\", \"year\", \"rating\")\n",
    "\n",
    "moviesDF\n",
    "    .groupBy(\"year\")\n",
    "    .agg(min(\"rating\"))\n",
    "    .join(tmpDF, \"year\")\n",
    "    .filter($\"rating\" === $\"min(rating)\")\n",
    "    .orderBy($\"min(Rating)\".asc)\n",
    "    .show()"
   ]
  },
  {
   "cell_type": "markdown",
   "metadata": {},
   "source": [
    "### Exercice 6 - Find the title of movies having the same director. \n",
    "\n",
    "**Example output**\n",
    "\n",
    "```plain\n",
    "+------------------+--------------------+--------------------+\n",
    "|         director1|              title1|              title2|\n",
    "+------------------+--------------------+--------------------+\n",
    "|        James Gunn|Guardians of the ...|               Super|\n",
    "|        James Gunn|Guardians of the ...|             Slither|\n",
    "|      Ridley Scott|          Prometheus|        Body of Lies|\n",
    "|      Ridley Scott|          Prometheus|         A Good Year|\n",
    "...\n",
    "```\n",
    "\n",
    "Note that when using the dataframe API:\n",
    "* You can use `===` to test equality of columns and `!==` to test non-equality of them\n",
    "* You can use the `as` keyword to make alias of column names and table names (check the reference documentation)"
   ]
  },
  {
   "cell_type": "code",
   "execution_count": 92,
   "metadata": {},
   "outputs": [
    {
     "data": {
      "text/html": [
       "<div>\n",
       "  <span style=\"float: left;\">run at ThreadPoolExecutor.java:1149</span>\n",
       "</div>\n"
      ]
     },
     "metadata": {},
     "output_type": "display_data"
    },
    {
     "data": {
      "text/html": [
       "<div class=\"progress\">\n",
       "  <div class=\"progress-bar\" role=\"progressbar\" style=\"background-color: blue; width: 100%; word-wrap: normal; white-space: nowrap; text-align: center; color: white\" aria-valuenow=\"100\" aria-valuemin=\"0\" aria-valuemax=\"100\">\n",
       "    1 / 1\n",
       "  </div>\n",
       "  <div class=\"progress-bar\" role=\"progressbar\" style=\"background-color: red; width: 0%\" aria-valuenow=\"0\" aria-valuemin=\"0\" aria-valuemax=\"100\"></div>\n",
       "</div>\n"
      ]
     },
     "metadata": {},
     "output_type": "display_data"
    },
    {
     "data": {
      "text/html": [
       "<div>\n",
       "  <span style=\"float: left;\">run at ThreadPoolExecutor.java:1149</span>\n",
       "</div>\n"
      ]
     },
     "metadata": {},
     "output_type": "display_data"
    },
    {
     "data": {
      "text/html": [
       "<div class=\"progress\">\n",
       "  <div class=\"progress-bar\" role=\"progressbar\" style=\"background-color: blue; width: 100%; word-wrap: normal; white-space: nowrap; text-align: center; color: white\" aria-valuenow=\"100\" aria-valuemin=\"0\" aria-valuemax=\"100\">\n",
       "    200 / 200\n",
       "  </div>\n",
       "  <div class=\"progress-bar\" role=\"progressbar\" style=\"background-color: red; width: 0%\" aria-valuenow=\"0\" aria-valuemin=\"0\" aria-valuemax=\"100\"></div>\n",
       "</div>\n"
      ]
     },
     "metadata": {},
     "output_type": "display_data"
    },
    {
     "data": {
      "text/html": [
       "<div>\n",
       "  <span style=\"float: left;\">show at cmd91.sc:1</span>\n",
       "</div>\n"
      ]
     },
     "metadata": {},
     "output_type": "display_data"
    },
    {
     "data": {
      "text/html": [
       "<div class=\"progress\">\n",
       "  <div class=\"progress-bar\" role=\"progressbar\" style=\"background-color: blue; width: 100%; word-wrap: normal; white-space: nowrap; text-align: center; color: white\" aria-valuenow=\"100\" aria-valuemin=\"0\" aria-valuemax=\"100\">\n",
       "    1 / 1\n",
       "  </div>\n",
       "  <div class=\"progress-bar\" role=\"progressbar\" style=\"background-color: red; width: 0%\" aria-valuenow=\"0\" aria-valuemin=\"0\" aria-valuemax=\"100\"></div>\n",
       "</div>\n"
      ]
     },
     "metadata": {},
     "output_type": "display_data"
    },
    {
     "name": "stdout",
     "output_type": "stream",
     "text": [
      "+--------------------+--------------------+--------------------+\n",
      "|            director|              title1|              title2|\n",
      "+--------------------+--------------------+--------------------+\n",
      "|          Adam McKay|Talladega Nights:...|       The Big Short|\n",
      "|          Adam McKay|      The Other Guys|       The Big Short|\n",
      "|          Adam McKay|       Step Brothers|       The Big Short|\n",
      "|       Adam Shankman|        Rock of Ages|           Hairspray|\n",
      "|        Adam Wingard|           The Guest|         Blair Witch|\n",
      "|         Alan Taylor|  Terminator Genisys|Thor: The Dark World|\n",
      "|Alejandro Gonzále...|Birdman or (The U...|        The Revenant|\n",
      "|Alejandro Gonzále...|               Babel|        The Revenant|\n",
      "|       Alexandre Aja|The 9th Life of L...| The Hills Have Eyes|\n",
      "|       Alexandre Aja|               Horns| The Hills Have Eyes|\n",
      "|       Alexandre Aja|          Piranha 3D| The Hills Have Eyes|\n",
      "|      Alfonso Cuarón|             Gravity|     Children of Men|\n",
      "|       Andrew Niccol|             In Time|            The Host|\n",
      "|      Andrew Stanton|              WALL·E|        Finding Dory|\n",
      "|      Andrew Stanton|         John Carter|        Finding Dory|\n",
      "|             Ang Lee|          Life of Pi|Billy Lynn's Long...|\n",
      "|       Anne Fletcher|        The Proposal|             Step Up|\n",
      "|       Anthony Russo|Captain America: ...|Captain America: ...|\n",
      "|       Antoine Fuqua|  Olympus Has Fallen|The Magnificent S...|\n",
      "|       Antoine Fuqua|            Southpaw|The Magnificent S...|\n",
      "+--------------------+--------------------+--------------------+\n",
      "only showing top 20 rows\n",
      "\n"
     ]
    }
   ],
   "source": [
    "spark.sql(\"\"\"\n",
    "SELECT movies.director, movies.title as title1, movies2.title as title2\n",
    "FROM movies\n",
    "INNER JOIN(\n",
    "    SELECT director, FIRST_VALUE(title) as title\n",
    "    FROM movies\n",
    "    GROUP BY director\n",
    ")movies2\n",
    "ON movies.director = movies2.director\n",
    "WHERE movies.title != movies2.title \n",
    "ORDER BY director\n",
    "\"\"\")\n",
    ".show"
   ]
  },
  {
   "cell_type": "code",
   "execution_count": 110,
   "metadata": {},
   "outputs": [
    {
     "data": {
      "text/html": [
       "<div>\n",
       "  <span style=\"float: left;\">run at ThreadPoolExecutor.java:1149</span>\n",
       "</div>\n"
      ]
     },
     "metadata": {},
     "output_type": "display_data"
    },
    {
     "data": {
      "text/html": [
       "<div class=\"progress\">\n",
       "  <div class=\"progress-bar\" role=\"progressbar\" style=\"background-color: blue; width: 100%; word-wrap: normal; white-space: nowrap; text-align: center; color: white\" aria-valuenow=\"100\" aria-valuemin=\"0\" aria-valuemax=\"100\">\n",
       "    1 / 1\n",
       "  </div>\n",
       "  <div class=\"progress-bar\" role=\"progressbar\" style=\"background-color: red; width: 0%\" aria-valuenow=\"0\" aria-valuemin=\"0\" aria-valuemax=\"100\"></div>\n",
       "</div>\n"
      ]
     },
     "metadata": {},
     "output_type": "display_data"
    },
    {
     "data": {
      "text/html": [
       "<div>\n",
       "  <span style=\"float: left;\">run at ThreadPoolExecutor.java:1149</span>\n",
       "</div>\n"
      ]
     },
     "metadata": {},
     "output_type": "display_data"
    },
    {
     "data": {
      "text/html": [
       "<div class=\"progress\">\n",
       "  <div class=\"progress-bar\" role=\"progressbar\" style=\"background-color: blue; width: 100%; word-wrap: normal; white-space: nowrap; text-align: center; color: white\" aria-valuenow=\"100\" aria-valuemin=\"0\" aria-valuemax=\"100\">\n",
       "    200 / 200\n",
       "  </div>\n",
       "  <div class=\"progress-bar\" role=\"progressbar\" style=\"background-color: red; width: 0%\" aria-valuenow=\"0\" aria-valuemin=\"0\" aria-valuemax=\"100\"></div>\n",
       "</div>\n"
      ]
     },
     "metadata": {},
     "output_type": "display_data"
    },
    {
     "data": {
      "text/html": [
       "<div>\n",
       "  <span style=\"float: left;\">show at cmd109.sc:8</span>\n",
       "</div>\n"
      ]
     },
     "metadata": {},
     "output_type": "display_data"
    },
    {
     "data": {
      "text/html": [
       "<div class=\"progress\">\n",
       "  <div class=\"progress-bar\" role=\"progressbar\" style=\"background-color: blue; width: 100%; word-wrap: normal; white-space: nowrap; text-align: center; color: white\" aria-valuenow=\"100\" aria-valuemin=\"0\" aria-valuemax=\"100\">\n",
       "    1 / 1\n",
       "  </div>\n",
       "  <div class=\"progress-bar\" role=\"progressbar\" style=\"background-color: red; width: 0%\" aria-valuenow=\"0\" aria-valuemin=\"0\" aria-valuemax=\"100\"></div>\n",
       "</div>\n"
      ]
     },
     "metadata": {},
     "output_type": "display_data"
    },
    {
     "name": "stdout",
     "output_type": "stream",
     "text": [
      "+--------------------+--------------------+--------------------+\n",
      "|            director|              title1|              title2|\n",
      "+--------------------+--------------------+--------------------+\n",
      "|          Adam McKay|Talladega Nights:...|       The Big Short|\n",
      "|          Adam McKay|      The Other Guys|       The Big Short|\n",
      "|          Adam McKay|       Step Brothers|       The Big Short|\n",
      "|       Adam Shankman|        Rock of Ages|           Hairspray|\n",
      "|        Adam Wingard|           The Guest|         Blair Witch|\n",
      "|         Alan Taylor|  Terminator Genisys|Thor: The Dark World|\n",
      "|Alejandro Gonzále...|Birdman or (The U...|        The Revenant|\n",
      "|Alejandro Gonzále...|               Babel|        The Revenant|\n",
      "|       Alexandre Aja|The 9th Life of L...| The Hills Have Eyes|\n",
      "|       Alexandre Aja|               Horns| The Hills Have Eyes|\n",
      "|       Alexandre Aja|          Piranha 3D| The Hills Have Eyes|\n",
      "|      Alfonso Cuarón|             Gravity|     Children of Men|\n",
      "|       Andrew Niccol|             In Time|            The Host|\n",
      "|      Andrew Stanton|              WALL·E|        Finding Dory|\n",
      "|      Andrew Stanton|         John Carter|        Finding Dory|\n",
      "|             Ang Lee|          Life of Pi|Billy Lynn's Long...|\n",
      "|       Anne Fletcher|        The Proposal|             Step Up|\n",
      "|       Anthony Russo|Captain America: ...|Captain America: ...|\n",
      "|       Antoine Fuqua|  Olympus Has Fallen|The Magnificent S...|\n",
      "|       Antoine Fuqua|            Southpaw|The Magnificent S...|\n",
      "+--------------------+--------------------+--------------------+\n",
      "only showing top 20 rows\n",
      "\n"
     ]
    },
    {
     "data": {
      "text/plain": [
       "\u001b[36mmovies2DF\u001b[39m: \u001b[32mDataFrame\u001b[39m = [director: string, title2: string]"
      ]
     },
     "execution_count": 110,
     "metadata": {},
     "output_type": "execute_result"
    }
   ],
   "source": [
    "val movies2DF = moviesDF.groupBy(\"director\").agg(first(\"title\").as(\"title2\"))\n",
    "\n",
    "moviesDF\n",
    "    .select(\"director\", \"title\")\n",
    "    .join(movies2DF, \"director\")\n",
    "    .where($\"title\" !== $\"title2\")\n",
    "    .orderBy(moviesDF(\"director\"))\n",
    "    .withColumnRenamed(\"title\", \"title1\")\n",
    "    .show"
   ]
  },
  {
   "cell_type": "code",
   "execution_count": null,
   "metadata": {},
   "outputs": [],
   "source": []
  }
 ],
 "metadata": {
  "jupytext": {
   "formats": "ipynb,md"
  },
  "kernelspec": {
   "display_name": "Scala 2.12",
   "language": "scala",
   "name": "scala212"
  },
  "language_info": {
   "codemirror_mode": "text/x-scala",
   "file_extension": ".scala",
   "mimetype": "text/x-scala",
   "name": "scala",
   "nbconvert_exporter": "script",
   "version": "2.12.10"
  }
 },
 "nbformat": 4,
 "nbformat_minor": 4
}
